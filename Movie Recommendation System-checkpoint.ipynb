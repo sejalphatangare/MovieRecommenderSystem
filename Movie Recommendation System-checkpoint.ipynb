{
 "cells": [
  {
   "cell_type": "code",
   "execution_count": 1,
   "id": "46e1f142",
   "metadata": {
    "scrolled": false
   },
   "outputs": [],
   "source": [
    "import numpy as np\n",
    "import pandas as pd"
   ]
  },
  {
   "cell_type": "code",
   "execution_count": 2,
   "id": "70093661",
   "metadata": {},
   "outputs": [],
   "source": [
    "movies=pd.read_csv('tmdb_5000_movies.csv')\n",
    "credits=pd.read_csv('tmdb_5000_credits.csv')"
   ]
  },
  {
   "cell_type": "code",
   "execution_count": 3,
   "id": "e4e541be",
   "metadata": {},
   "outputs": [
    {
     "data": {
      "text/html": [
       "<div>\n",
       "<style scoped>\n",
       "    .dataframe tbody tr th:only-of-type {\n",
       "        vertical-align: middle;\n",
       "    }\n",
       "\n",
       "    .dataframe tbody tr th {\n",
       "        vertical-align: top;\n",
       "    }\n",
       "\n",
       "    .dataframe thead th {\n",
       "        text-align: right;\n",
       "    }\n",
       "</style>\n",
       "<table border=\"1\" class=\"dataframe\">\n",
       "  <thead>\n",
       "    <tr style=\"text-align: right;\">\n",
       "      <th></th>\n",
       "      <th>budget</th>\n",
       "      <th>genres</th>\n",
       "      <th>homepage</th>\n",
       "      <th>id</th>\n",
       "      <th>keywords</th>\n",
       "      <th>original_language</th>\n",
       "      <th>original_title</th>\n",
       "      <th>overview</th>\n",
       "      <th>popularity</th>\n",
       "      <th>production_companies</th>\n",
       "      <th>production_countries</th>\n",
       "      <th>release_date</th>\n",
       "      <th>revenue</th>\n",
       "      <th>runtime</th>\n",
       "      <th>spoken_languages</th>\n",
       "      <th>status</th>\n",
       "      <th>tagline</th>\n",
       "      <th>title</th>\n",
       "      <th>vote_average</th>\n",
       "      <th>vote_count</th>\n",
       "    </tr>\n",
       "  </thead>\n",
       "  <tbody>\n",
       "    <tr>\n",
       "      <th>0</th>\n",
       "      <td>237000000</td>\n",
       "      <td>[{\"id\": 28, \"name\": \"Action\"}, {\"id\": 12, \"nam...</td>\n",
       "      <td>http://www.avatarmovie.com/</td>\n",
       "      <td>19995</td>\n",
       "      <td>[{\"id\": 1463, \"name\": \"culture clash\"}, {\"id\":...</td>\n",
       "      <td>en</td>\n",
       "      <td>Avatar</td>\n",
       "      <td>In the 22nd century, a paraplegic Marine is di...</td>\n",
       "      <td>150.437577</td>\n",
       "      <td>[{\"name\": \"Ingenious Film Partners\", \"id\": 289...</td>\n",
       "      <td>[{\"iso_3166_1\": \"US\", \"name\": \"United States o...</td>\n",
       "      <td>2009-12-10</td>\n",
       "      <td>2787965087</td>\n",
       "      <td>162.0</td>\n",
       "      <td>[{\"iso_639_1\": \"en\", \"name\": \"English\"}, {\"iso...</td>\n",
       "      <td>Released</td>\n",
       "      <td>Enter the World of Pandora.</td>\n",
       "      <td>Avatar</td>\n",
       "      <td>7.2</td>\n",
       "      <td>11800</td>\n",
       "    </tr>\n",
       "  </tbody>\n",
       "</table>\n",
       "</div>"
      ],
      "text/plain": [
       "      budget                                             genres   \n",
       "0  237000000  [{\"id\": 28, \"name\": \"Action\"}, {\"id\": 12, \"nam...  \\\n",
       "\n",
       "                      homepage     id   \n",
       "0  http://www.avatarmovie.com/  19995  \\\n",
       "\n",
       "                                            keywords original_language   \n",
       "0  [{\"id\": 1463, \"name\": \"culture clash\"}, {\"id\":...                en  \\\n",
       "\n",
       "  original_title                                           overview   \n",
       "0         Avatar  In the 22nd century, a paraplegic Marine is di...  \\\n",
       "\n",
       "   popularity                               production_companies   \n",
       "0  150.437577  [{\"name\": \"Ingenious Film Partners\", \"id\": 289...  \\\n",
       "\n",
       "                                production_countries release_date     revenue   \n",
       "0  [{\"iso_3166_1\": \"US\", \"name\": \"United States o...   2009-12-10  2787965087  \\\n",
       "\n",
       "   runtime                                   spoken_languages    status   \n",
       "0    162.0  [{\"iso_639_1\": \"en\", \"name\": \"English\"}, {\"iso...  Released  \\\n",
       "\n",
       "                       tagline   title  vote_average  vote_count  \n",
       "0  Enter the World of Pandora.  Avatar           7.2       11800  "
      ]
     },
     "execution_count": 3,
     "metadata": {},
     "output_type": "execute_result"
    }
   ],
   "source": [
    "movies.head(1)"
   ]
  },
  {
   "cell_type": "code",
   "execution_count": 4,
   "id": "af6686f0",
   "metadata": {},
   "outputs": [
    {
     "data": {
      "text/html": [
       "<div>\n",
       "<style scoped>\n",
       "    .dataframe tbody tr th:only-of-type {\n",
       "        vertical-align: middle;\n",
       "    }\n",
       "\n",
       "    .dataframe tbody tr th {\n",
       "        vertical-align: top;\n",
       "    }\n",
       "\n",
       "    .dataframe thead th {\n",
       "        text-align: right;\n",
       "    }\n",
       "</style>\n",
       "<table border=\"1\" class=\"dataframe\">\n",
       "  <thead>\n",
       "    <tr style=\"text-align: right;\">\n",
       "      <th></th>\n",
       "      <th>movie_id</th>\n",
       "      <th>title</th>\n",
       "      <th>cast</th>\n",
       "      <th>crew</th>\n",
       "    </tr>\n",
       "  </thead>\n",
       "  <tbody>\n",
       "    <tr>\n",
       "      <th>0</th>\n",
       "      <td>19995</td>\n",
       "      <td>Avatar</td>\n",
       "      <td>[{\"cast_id\": 242, \"character\": \"Jake Sully\", \"...</td>\n",
       "      <td>[{\"credit_id\": \"52fe48009251416c750aca23\", \"de...</td>\n",
       "    </tr>\n",
       "  </tbody>\n",
       "</table>\n",
       "</div>"
      ],
      "text/plain": [
       "   movie_id   title                                               cast   \n",
       "0     19995  Avatar  [{\"cast_id\": 242, \"character\": \"Jake Sully\", \"...  \\\n",
       "\n",
       "                                                crew  \n",
       "0  [{\"credit_id\": \"52fe48009251416c750aca23\", \"de...  "
      ]
     },
     "execution_count": 4,
     "metadata": {},
     "output_type": "execute_result"
    }
   ],
   "source": [
    "credits.head(1)"
   ]
  },
  {
   "cell_type": "code",
   "execution_count": 5,
   "id": "e07e7e3b",
   "metadata": {},
   "outputs": [],
   "source": [
    "# merging the dataframes based on title\n",
    "movies=movies.merge(credits,on='title')"
   ]
  },
  {
   "cell_type": "code",
   "execution_count": 6,
   "id": "e8cffc41",
   "metadata": {},
   "outputs": [
    {
     "data": {
      "text/html": [
       "<div>\n",
       "<style scoped>\n",
       "    .dataframe tbody tr th:only-of-type {\n",
       "        vertical-align: middle;\n",
       "    }\n",
       "\n",
       "    .dataframe tbody tr th {\n",
       "        vertical-align: top;\n",
       "    }\n",
       "\n",
       "    .dataframe thead th {\n",
       "        text-align: right;\n",
       "    }\n",
       "</style>\n",
       "<table border=\"1\" class=\"dataframe\">\n",
       "  <thead>\n",
       "    <tr style=\"text-align: right;\">\n",
       "      <th></th>\n",
       "      <th>budget</th>\n",
       "      <th>genres</th>\n",
       "      <th>homepage</th>\n",
       "      <th>id</th>\n",
       "      <th>keywords</th>\n",
       "      <th>original_language</th>\n",
       "      <th>original_title</th>\n",
       "      <th>overview</th>\n",
       "      <th>popularity</th>\n",
       "      <th>production_companies</th>\n",
       "      <th>...</th>\n",
       "      <th>runtime</th>\n",
       "      <th>spoken_languages</th>\n",
       "      <th>status</th>\n",
       "      <th>tagline</th>\n",
       "      <th>title</th>\n",
       "      <th>vote_average</th>\n",
       "      <th>vote_count</th>\n",
       "      <th>movie_id</th>\n",
       "      <th>cast</th>\n",
       "      <th>crew</th>\n",
       "    </tr>\n",
       "  </thead>\n",
       "  <tbody>\n",
       "    <tr>\n",
       "      <th>0</th>\n",
       "      <td>237000000</td>\n",
       "      <td>[{\"id\": 28, \"name\": \"Action\"}, {\"id\": 12, \"nam...</td>\n",
       "      <td>http://www.avatarmovie.com/</td>\n",
       "      <td>19995</td>\n",
       "      <td>[{\"id\": 1463, \"name\": \"culture clash\"}, {\"id\":...</td>\n",
       "      <td>en</td>\n",
       "      <td>Avatar</td>\n",
       "      <td>In the 22nd century, a paraplegic Marine is di...</td>\n",
       "      <td>150.437577</td>\n",
       "      <td>[{\"name\": \"Ingenious Film Partners\", \"id\": 289...</td>\n",
       "      <td>...</td>\n",
       "      <td>162.0</td>\n",
       "      <td>[{\"iso_639_1\": \"en\", \"name\": \"English\"}, {\"iso...</td>\n",
       "      <td>Released</td>\n",
       "      <td>Enter the World of Pandora.</td>\n",
       "      <td>Avatar</td>\n",
       "      <td>7.2</td>\n",
       "      <td>11800</td>\n",
       "      <td>19995</td>\n",
       "      <td>[{\"cast_id\": 242, \"character\": \"Jake Sully\", \"...</td>\n",
       "      <td>[{\"credit_id\": \"52fe48009251416c750aca23\", \"de...</td>\n",
       "    </tr>\n",
       "  </tbody>\n",
       "</table>\n",
       "<p>1 rows × 23 columns</p>\n",
       "</div>"
      ],
      "text/plain": [
       "      budget                                             genres   \n",
       "0  237000000  [{\"id\": 28, \"name\": \"Action\"}, {\"id\": 12, \"nam...  \\\n",
       "\n",
       "                      homepage     id   \n",
       "0  http://www.avatarmovie.com/  19995  \\\n",
       "\n",
       "                                            keywords original_language   \n",
       "0  [{\"id\": 1463, \"name\": \"culture clash\"}, {\"id\":...                en  \\\n",
       "\n",
       "  original_title                                           overview   \n",
       "0         Avatar  In the 22nd century, a paraplegic Marine is di...  \\\n",
       "\n",
       "   popularity                               production_companies  ... runtime   \n",
       "0  150.437577  [{\"name\": \"Ingenious Film Partners\", \"id\": 289...  ...   162.0  \\\n",
       "\n",
       "                                    spoken_languages    status   \n",
       "0  [{\"iso_639_1\": \"en\", \"name\": \"English\"}, {\"iso...  Released  \\\n",
       "\n",
       "                       tagline   title vote_average vote_count movie_id   \n",
       "0  Enter the World of Pandora.  Avatar          7.2      11800    19995  \\\n",
       "\n",
       "                                                cast   \n",
       "0  [{\"cast_id\": 242, \"character\": \"Jake Sully\", \"...  \\\n",
       "\n",
       "                                                crew  \n",
       "0  [{\"credit_id\": \"52fe48009251416c750aca23\", \"de...  \n",
       "\n",
       "[1 rows x 23 columns]"
      ]
     },
     "execution_count": 6,
     "metadata": {},
     "output_type": "execute_result"
    }
   ],
   "source": [
    "movies.head(1)"
   ]
  },
  {
   "cell_type": "code",
   "execution_count": 7,
   "id": "1651ac66",
   "metadata": {},
   "outputs": [
    {
     "data": {
      "text/plain": [
       "(4803, 4)"
      ]
     },
     "execution_count": 7,
     "metadata": {},
     "output_type": "execute_result"
    }
   ],
   "source": [
    "credits.shape"
   ]
  },
  {
   "cell_type": "code",
   "execution_count": 8,
   "id": "e11e1a46",
   "metadata": {},
   "outputs": [],
   "source": [
    "# removing the columns which are not useful to us\n",
    "# useful content\n",
    "# genres\n",
    "# id\n",
    "# keywords\n",
    "# overview\n",
    "# cast\n",
    "# crew\n",
    "movies=movies[['movie_id','title','overview','genres','keywords','cast','crew']]"
   ]
  },
  {
   "cell_type": "code",
   "execution_count": 9,
   "id": "d41d9173",
   "metadata": {},
   "outputs": [
    {
     "name": "stdout",
     "output_type": "stream",
     "text": [
      "<class 'pandas.core.frame.DataFrame'>\n",
      "RangeIndex: 4809 entries, 0 to 4808\n",
      "Data columns (total 7 columns):\n",
      " #   Column    Non-Null Count  Dtype \n",
      "---  ------    --------------  ----- \n",
      " 0   movie_id  4809 non-null   int64 \n",
      " 1   title     4809 non-null   object\n",
      " 2   overview  4806 non-null   object\n",
      " 3   genres    4809 non-null   object\n",
      " 4   keywords  4809 non-null   object\n",
      " 5   cast      4809 non-null   object\n",
      " 6   crew      4809 non-null   object\n",
      "dtypes: int64(1), object(6)\n",
      "memory usage: 263.1+ KB\n"
     ]
    }
   ],
   "source": [
    "movies.info()"
   ]
  },
  {
   "cell_type": "code",
   "execution_count": 10,
   "id": "79d73a53",
   "metadata": {},
   "outputs": [
    {
     "data": {
      "text/html": [
       "<div>\n",
       "<style scoped>\n",
       "    .dataframe tbody tr th:only-of-type {\n",
       "        vertical-align: middle;\n",
       "    }\n",
       "\n",
       "    .dataframe tbody tr th {\n",
       "        vertical-align: top;\n",
       "    }\n",
       "\n",
       "    .dataframe thead th {\n",
       "        text-align: right;\n",
       "    }\n",
       "</style>\n",
       "<table border=\"1\" class=\"dataframe\">\n",
       "  <thead>\n",
       "    <tr style=\"text-align: right;\">\n",
       "      <th></th>\n",
       "      <th>movie_id</th>\n",
       "      <th>title</th>\n",
       "      <th>overview</th>\n",
       "      <th>genres</th>\n",
       "      <th>keywords</th>\n",
       "      <th>cast</th>\n",
       "      <th>crew</th>\n",
       "    </tr>\n",
       "  </thead>\n",
       "  <tbody>\n",
       "    <tr>\n",
       "      <th>0</th>\n",
       "      <td>19995</td>\n",
       "      <td>Avatar</td>\n",
       "      <td>In the 22nd century, a paraplegic Marine is di...</td>\n",
       "      <td>[{\"id\": 28, \"name\": \"Action\"}, {\"id\": 12, \"nam...</td>\n",
       "      <td>[{\"id\": 1463, \"name\": \"culture clash\"}, {\"id\":...</td>\n",
       "      <td>[{\"cast_id\": 242, \"character\": \"Jake Sully\", \"...</td>\n",
       "      <td>[{\"credit_id\": \"52fe48009251416c750aca23\", \"de...</td>\n",
       "    </tr>\n",
       "    <tr>\n",
       "      <th>1</th>\n",
       "      <td>285</td>\n",
       "      <td>Pirates of the Caribbean: At World's End</td>\n",
       "      <td>Captain Barbossa, long believed to be dead, ha...</td>\n",
       "      <td>[{\"id\": 12, \"name\": \"Adventure\"}, {\"id\": 14, \"...</td>\n",
       "      <td>[{\"id\": 270, \"name\": \"ocean\"}, {\"id\": 726, \"na...</td>\n",
       "      <td>[{\"cast_id\": 4, \"character\": \"Captain Jack Spa...</td>\n",
       "      <td>[{\"credit_id\": \"52fe4232c3a36847f800b579\", \"de...</td>\n",
       "    </tr>\n",
       "    <tr>\n",
       "      <th>2</th>\n",
       "      <td>206647</td>\n",
       "      <td>Spectre</td>\n",
       "      <td>A cryptic message from Bond’s past sends him o...</td>\n",
       "      <td>[{\"id\": 28, \"name\": \"Action\"}, {\"id\": 12, \"nam...</td>\n",
       "      <td>[{\"id\": 470, \"name\": \"spy\"}, {\"id\": 818, \"name...</td>\n",
       "      <td>[{\"cast_id\": 1, \"character\": \"James Bond\", \"cr...</td>\n",
       "      <td>[{\"credit_id\": \"54805967c3a36829b5002c41\", \"de...</td>\n",
       "    </tr>\n",
       "    <tr>\n",
       "      <th>3</th>\n",
       "      <td>49026</td>\n",
       "      <td>The Dark Knight Rises</td>\n",
       "      <td>Following the death of District Attorney Harve...</td>\n",
       "      <td>[{\"id\": 28, \"name\": \"Action\"}, {\"id\": 80, \"nam...</td>\n",
       "      <td>[{\"id\": 849, \"name\": \"dc comics\"}, {\"id\": 853,...</td>\n",
       "      <td>[{\"cast_id\": 2, \"character\": \"Bruce Wayne / Ba...</td>\n",
       "      <td>[{\"credit_id\": \"52fe4781c3a36847f81398c3\", \"de...</td>\n",
       "    </tr>\n",
       "    <tr>\n",
       "      <th>4</th>\n",
       "      <td>49529</td>\n",
       "      <td>John Carter</td>\n",
       "      <td>John Carter is a war-weary, former military ca...</td>\n",
       "      <td>[{\"id\": 28, \"name\": \"Action\"}, {\"id\": 12, \"nam...</td>\n",
       "      <td>[{\"id\": 818, \"name\": \"based on novel\"}, {\"id\":...</td>\n",
       "      <td>[{\"cast_id\": 5, \"character\": \"John Carter\", \"c...</td>\n",
       "      <td>[{\"credit_id\": \"52fe479ac3a36847f813eaa3\", \"de...</td>\n",
       "    </tr>\n",
       "  </tbody>\n",
       "</table>\n",
       "</div>"
      ],
      "text/plain": [
       "   movie_id                                     title   \n",
       "0     19995                                    Avatar  \\\n",
       "1       285  Pirates of the Caribbean: At World's End   \n",
       "2    206647                                   Spectre   \n",
       "3     49026                     The Dark Knight Rises   \n",
       "4     49529                               John Carter   \n",
       "\n",
       "                                            overview   \n",
       "0  In the 22nd century, a paraplegic Marine is di...  \\\n",
       "1  Captain Barbossa, long believed to be dead, ha...   \n",
       "2  A cryptic message from Bond’s past sends him o...   \n",
       "3  Following the death of District Attorney Harve...   \n",
       "4  John Carter is a war-weary, former military ca...   \n",
       "\n",
       "                                              genres   \n",
       "0  [{\"id\": 28, \"name\": \"Action\"}, {\"id\": 12, \"nam...  \\\n",
       "1  [{\"id\": 12, \"name\": \"Adventure\"}, {\"id\": 14, \"...   \n",
       "2  [{\"id\": 28, \"name\": \"Action\"}, {\"id\": 12, \"nam...   \n",
       "3  [{\"id\": 28, \"name\": \"Action\"}, {\"id\": 80, \"nam...   \n",
       "4  [{\"id\": 28, \"name\": \"Action\"}, {\"id\": 12, \"nam...   \n",
       "\n",
       "                                            keywords   \n",
       "0  [{\"id\": 1463, \"name\": \"culture clash\"}, {\"id\":...  \\\n",
       "1  [{\"id\": 270, \"name\": \"ocean\"}, {\"id\": 726, \"na...   \n",
       "2  [{\"id\": 470, \"name\": \"spy\"}, {\"id\": 818, \"name...   \n",
       "3  [{\"id\": 849, \"name\": \"dc comics\"}, {\"id\": 853,...   \n",
       "4  [{\"id\": 818, \"name\": \"based on novel\"}, {\"id\":...   \n",
       "\n",
       "                                                cast   \n",
       "0  [{\"cast_id\": 242, \"character\": \"Jake Sully\", \"...  \\\n",
       "1  [{\"cast_id\": 4, \"character\": \"Captain Jack Spa...   \n",
       "2  [{\"cast_id\": 1, \"character\": \"James Bond\", \"cr...   \n",
       "3  [{\"cast_id\": 2, \"character\": \"Bruce Wayne / Ba...   \n",
       "4  [{\"cast_id\": 5, \"character\": \"John Carter\", \"c...   \n",
       "\n",
       "                                                crew  \n",
       "0  [{\"credit_id\": \"52fe48009251416c750aca23\", \"de...  \n",
       "1  [{\"credit_id\": \"52fe4232c3a36847f800b579\", \"de...  \n",
       "2  [{\"credit_id\": \"54805967c3a36829b5002c41\", \"de...  \n",
       "3  [{\"credit_id\": \"52fe4781c3a36847f81398c3\", \"de...  \n",
       "4  [{\"credit_id\": \"52fe479ac3a36847f813eaa3\", \"de...  "
      ]
     },
     "execution_count": 10,
     "metadata": {},
     "output_type": "execute_result"
    }
   ],
   "source": [
    "# final DataFrame we are working on:\n",
    "movies.head()"
   ]
  },
  {
   "cell_type": "code",
   "execution_count": 11,
   "id": "05a27a40",
   "metadata": {},
   "outputs": [
    {
     "data": {
      "text/plain": [
       "movie_id    0\n",
       "title       0\n",
       "overview    3\n",
       "genres      0\n",
       "keywords    0\n",
       "cast        0\n",
       "crew        0\n",
       "dtype: int64"
      ]
     },
     "execution_count": 11,
     "metadata": {},
     "output_type": "execute_result"
    }
   ],
   "source": [
    "# dataframe: \n",
    "# movieid  title  tags(merging overview,genres keywords cast crew)\n",
    "# data preprocessing,removing duplicate data,missing data\n",
    "movies.isnull().sum()"
   ]
  },
  {
   "cell_type": "code",
   "execution_count": 12,
   "id": "6498b5c8",
   "metadata": {},
   "outputs": [],
   "source": [
    "# drop the 3 movies with missing overview \n",
    "movies.dropna(inplace=True)"
   ]
  },
  {
   "cell_type": "code",
   "execution_count": 13,
   "id": "2700a30a",
   "metadata": {},
   "outputs": [
    {
     "data": {
      "text/plain": [
       "0"
      ]
     },
     "execution_count": 13,
     "metadata": {},
     "output_type": "execute_result"
    }
   ],
   "source": [
    "# check for duplicated data\n",
    "movies.duplicated().sum()"
   ]
  },
  {
   "cell_type": "code",
   "execution_count": 14,
   "id": "efcd78d0",
   "metadata": {},
   "outputs": [
    {
     "data": {
      "text/plain": [
       "'[{\"id\": 28, \"name\": \"Action\"}, {\"id\": 12, \"name\": \"Adventure\"}, {\"id\": 14, \"name\": \"Fantasy\"}, {\"id\": 878, \"name\": \"Science Fiction\"}]'"
      ]
     },
     "execution_count": 14,
     "metadata": {},
     "output_type": "execute_result"
    }
   ],
   "source": [
    "# formating the columns\n",
    "movies.iloc[0].genres"
   ]
  },
  {
   "cell_type": "code",
   "execution_count": 15,
   "id": "b15a40b9",
   "metadata": {},
   "outputs": [],
   "source": [
    "# '[{\"id\": 28, \"name\": \"Action\"}, {\"id\": 12, \"name\": \"Adventure\"}, {\"id\": 14, \"name\": \"Fantasy\"}, {\"id\": 878, \"name\": \"Science Fiction\"}]'\n",
    "# into this format --->  ['Action','Adventure','Fantasy','Scifi']\n",
    "\n",
    "# to format we create a helper function: \n",
    "def convert(obj):\n",
    "    L=[]\n",
    "    for i in ast.literal_eval(obj):\n",
    "        L.append(i['name'])\n",
    "    return L"
   ]
  },
  {
   "cell_type": "code",
   "execution_count": 16,
   "id": "90ea15e9",
   "metadata": {},
   "outputs": [
    {
     "data": {
      "text/plain": [
       "[{'id': 28, 'name': 'Action'},\n",
       " {'id': 12, 'name': 'Adventure'},\n",
       " {'id': 14, 'name': 'Fantasy'},\n",
       " {'id': 878, 'name': 'Science Fiction'}]"
      ]
     },
     "execution_count": 16,
     "metadata": {},
     "output_type": "execute_result"
    }
   ],
   "source": [
    "# this obj is string but we need a list so to convert from string to list built in func ast.literal_eval is used\n",
    "\n",
    "import ast\n",
    "ast.literal_eval('[{\"id\": 28, \"name\": \"Action\"}, {\"id\": 12, \"name\": \"Adventure\"}, {\"id\": 14, \"name\": \"Fantasy\"}, {\"id\": 878, \"name\": \"Science Fiction\"}]')\n",
    "# "
   ]
  },
  {
   "cell_type": "code",
   "execution_count": 17,
   "id": "6db27202",
   "metadata": {
    "scrolled": true
   },
   "outputs": [],
   "source": [
    "movies['genres']=movies['genres'].apply(convert)"
   ]
  },
  {
   "cell_type": "code",
   "execution_count": 18,
   "id": "ce1bdfe9",
   "metadata": {},
   "outputs": [
    {
     "data": {
      "text/html": [
       "<div>\n",
       "<style scoped>\n",
       "    .dataframe tbody tr th:only-of-type {\n",
       "        vertical-align: middle;\n",
       "    }\n",
       "\n",
       "    .dataframe tbody tr th {\n",
       "        vertical-align: top;\n",
       "    }\n",
       "\n",
       "    .dataframe thead th {\n",
       "        text-align: right;\n",
       "    }\n",
       "</style>\n",
       "<table border=\"1\" class=\"dataframe\">\n",
       "  <thead>\n",
       "    <tr style=\"text-align: right;\">\n",
       "      <th></th>\n",
       "      <th>movie_id</th>\n",
       "      <th>title</th>\n",
       "      <th>overview</th>\n",
       "      <th>genres</th>\n",
       "      <th>keywords</th>\n",
       "      <th>cast</th>\n",
       "      <th>crew</th>\n",
       "    </tr>\n",
       "  </thead>\n",
       "  <tbody>\n",
       "    <tr>\n",
       "      <th>0</th>\n",
       "      <td>19995</td>\n",
       "      <td>Avatar</td>\n",
       "      <td>In the 22nd century, a paraplegic Marine is di...</td>\n",
       "      <td>[Action, Adventure, Fantasy, Science Fiction]</td>\n",
       "      <td>[{\"id\": 1463, \"name\": \"culture clash\"}, {\"id\":...</td>\n",
       "      <td>[{\"cast_id\": 242, \"character\": \"Jake Sully\", \"...</td>\n",
       "      <td>[{\"credit_id\": \"52fe48009251416c750aca23\", \"de...</td>\n",
       "    </tr>\n",
       "    <tr>\n",
       "      <th>1</th>\n",
       "      <td>285</td>\n",
       "      <td>Pirates of the Caribbean: At World's End</td>\n",
       "      <td>Captain Barbossa, long believed to be dead, ha...</td>\n",
       "      <td>[Adventure, Fantasy, Action]</td>\n",
       "      <td>[{\"id\": 270, \"name\": \"ocean\"}, {\"id\": 726, \"na...</td>\n",
       "      <td>[{\"cast_id\": 4, \"character\": \"Captain Jack Spa...</td>\n",
       "      <td>[{\"credit_id\": \"52fe4232c3a36847f800b579\", \"de...</td>\n",
       "    </tr>\n",
       "    <tr>\n",
       "      <th>2</th>\n",
       "      <td>206647</td>\n",
       "      <td>Spectre</td>\n",
       "      <td>A cryptic message from Bond’s past sends him o...</td>\n",
       "      <td>[Action, Adventure, Crime]</td>\n",
       "      <td>[{\"id\": 470, \"name\": \"spy\"}, {\"id\": 818, \"name...</td>\n",
       "      <td>[{\"cast_id\": 1, \"character\": \"James Bond\", \"cr...</td>\n",
       "      <td>[{\"credit_id\": \"54805967c3a36829b5002c41\", \"de...</td>\n",
       "    </tr>\n",
       "    <tr>\n",
       "      <th>3</th>\n",
       "      <td>49026</td>\n",
       "      <td>The Dark Knight Rises</td>\n",
       "      <td>Following the death of District Attorney Harve...</td>\n",
       "      <td>[Action, Crime, Drama, Thriller]</td>\n",
       "      <td>[{\"id\": 849, \"name\": \"dc comics\"}, {\"id\": 853,...</td>\n",
       "      <td>[{\"cast_id\": 2, \"character\": \"Bruce Wayne / Ba...</td>\n",
       "      <td>[{\"credit_id\": \"52fe4781c3a36847f81398c3\", \"de...</td>\n",
       "    </tr>\n",
       "    <tr>\n",
       "      <th>4</th>\n",
       "      <td>49529</td>\n",
       "      <td>John Carter</td>\n",
       "      <td>John Carter is a war-weary, former military ca...</td>\n",
       "      <td>[Action, Adventure, Science Fiction]</td>\n",
       "      <td>[{\"id\": 818, \"name\": \"based on novel\"}, {\"id\":...</td>\n",
       "      <td>[{\"cast_id\": 5, \"character\": \"John Carter\", \"c...</td>\n",
       "      <td>[{\"credit_id\": \"52fe479ac3a36847f813eaa3\", \"de...</td>\n",
       "    </tr>\n",
       "  </tbody>\n",
       "</table>\n",
       "</div>"
      ],
      "text/plain": [
       "   movie_id                                     title   \n",
       "0     19995                                    Avatar  \\\n",
       "1       285  Pirates of the Caribbean: At World's End   \n",
       "2    206647                                   Spectre   \n",
       "3     49026                     The Dark Knight Rises   \n",
       "4     49529                               John Carter   \n",
       "\n",
       "                                            overview   \n",
       "0  In the 22nd century, a paraplegic Marine is di...  \\\n",
       "1  Captain Barbossa, long believed to be dead, ha...   \n",
       "2  A cryptic message from Bond’s past sends him o...   \n",
       "3  Following the death of District Attorney Harve...   \n",
       "4  John Carter is a war-weary, former military ca...   \n",
       "\n",
       "                                          genres   \n",
       "0  [Action, Adventure, Fantasy, Science Fiction]  \\\n",
       "1                   [Adventure, Fantasy, Action]   \n",
       "2                     [Action, Adventure, Crime]   \n",
       "3               [Action, Crime, Drama, Thriller]   \n",
       "4           [Action, Adventure, Science Fiction]   \n",
       "\n",
       "                                            keywords   \n",
       "0  [{\"id\": 1463, \"name\": \"culture clash\"}, {\"id\":...  \\\n",
       "1  [{\"id\": 270, \"name\": \"ocean\"}, {\"id\": 726, \"na...   \n",
       "2  [{\"id\": 470, \"name\": \"spy\"}, {\"id\": 818, \"name...   \n",
       "3  [{\"id\": 849, \"name\": \"dc comics\"}, {\"id\": 853,...   \n",
       "4  [{\"id\": 818, \"name\": \"based on novel\"}, {\"id\":...   \n",
       "\n",
       "                                                cast   \n",
       "0  [{\"cast_id\": 242, \"character\": \"Jake Sully\", \"...  \\\n",
       "1  [{\"cast_id\": 4, \"character\": \"Captain Jack Spa...   \n",
       "2  [{\"cast_id\": 1, \"character\": \"James Bond\", \"cr...   \n",
       "3  [{\"cast_id\": 2, \"character\": \"Bruce Wayne / Ba...   \n",
       "4  [{\"cast_id\": 5, \"character\": \"John Carter\", \"c...   \n",
       "\n",
       "                                                crew  \n",
       "0  [{\"credit_id\": \"52fe48009251416c750aca23\", \"de...  \n",
       "1  [{\"credit_id\": \"52fe4232c3a36847f800b579\", \"de...  \n",
       "2  [{\"credit_id\": \"54805967c3a36829b5002c41\", \"de...  \n",
       "3  [{\"credit_id\": \"52fe4781c3a36847f81398c3\", \"de...  \n",
       "4  [{\"credit_id\": \"52fe479ac3a36847f813eaa3\", \"de...  "
      ]
     },
     "execution_count": 18,
     "metadata": {},
     "output_type": "execute_result"
    }
   ],
   "source": [
    "movies.head()\n",
    "# problem solved"
   ]
  },
  {
   "cell_type": "code",
   "execution_count": 19,
   "id": "31e07500",
   "metadata": {},
   "outputs": [],
   "source": [
    "movies['keywords']=movies['keywords'].apply(convert)"
   ]
  },
  {
   "cell_type": "code",
   "execution_count": 20,
   "id": "75869339",
   "metadata": {},
   "outputs": [],
   "source": [
    "# movies['cast'][0]\n",
    "# from cast column we need first 3 dictionaries only\n",
    "def convert3(obj):\n",
    "    L=[]\n",
    "    count=0\n",
    "    for i in ast.literal_eval(obj):\n",
    "        if count !=3:\n",
    "            L.append(i['name'])\n",
    "            count+=1\n",
    "        else:\n",
    "            break\n",
    "    return L"
   ]
  },
  {
   "cell_type": "code",
   "execution_count": 21,
   "id": "f6c0afd5",
   "metadata": {},
   "outputs": [],
   "source": [
    "movies['cast']=movies['cast'].apply(convert3)"
   ]
  },
  {
   "cell_type": "code",
   "execution_count": 22,
   "id": "a65c9289",
   "metadata": {},
   "outputs": [
    {
     "data": {
      "text/plain": [
       "'[{\"credit_id\": \"52fe48009251416c750aca23\", \"department\": \"Editing\", \"gender\": 0, \"id\": 1721, \"job\": \"Editor\", \"name\": \"Stephen E. Rivkin\"}, {\"credit_id\": \"539c47ecc3a36810e3001f87\", \"department\": \"Art\", \"gender\": 2, \"id\": 496, \"job\": \"Production Design\", \"name\": \"Rick Carter\"}, {\"credit_id\": \"54491c89c3a3680fb4001cf7\", \"department\": \"Sound\", \"gender\": 0, \"id\": 900, \"job\": \"Sound Designer\", \"name\": \"Christopher Boyes\"}, {\"credit_id\": \"54491cb70e0a267480001bd0\", \"department\": \"Sound\", \"gender\": 0, \"id\": 900, \"job\": \"Supervising Sound Editor\", \"name\": \"Christopher Boyes\"}, {\"credit_id\": \"539c4a4cc3a36810c9002101\", \"department\": \"Production\", \"gender\": 1, \"id\": 1262, \"job\": \"Casting\", \"name\": \"Mali Finn\"}, {\"credit_id\": \"5544ee3b925141499f0008fc\", \"department\": \"Sound\", \"gender\": 2, \"id\": 1729, \"job\": \"Original Music Composer\", \"name\": \"James Horner\"}, {\"credit_id\": \"52fe48009251416c750ac9c3\", \"department\": \"Directing\", \"gender\": 2, \"id\": 2710, \"job\": \"Director\", \"name\": \"James Cameron\"}, {\"credit_id\": \"52fe48009251416c750ac9d9\", \"department\": \"Writing\", \"gender\": 2, \"id\": 2710, \"job\": \"Writer\", \"name\": \"James Cameron\"}, {\"credit_id\": \"52fe48009251416c750aca17\", \"department\": \"Editing\", \"gender\": 2, \"id\": 2710, \"job\": \"Editor\", \"name\": \"James Cameron\"}, {\"credit_id\": \"52fe48009251416c750aca29\", \"department\": \"Production\", \"gender\": 2, \"id\": 2710, \"job\": \"Producer\", \"name\": \"James Cameron\"}, {\"credit_id\": \"52fe48009251416c750aca3f\", \"department\": \"Writing\", \"gender\": 2, \"id\": 2710, \"job\": \"Screenplay\", \"name\": \"James Cameron\"}, {\"credit_id\": \"539c4987c3a36810ba0021a4\", \"department\": \"Art\", \"gender\": 2, \"id\": 7236, \"job\": \"Art Direction\", \"name\": \"Andrew Menzies\"}, {\"credit_id\": \"549598c3c3a3686ae9004383\", \"department\": \"Visual Effects\", \"gender\": 0, \"id\": 6690, \"job\": \"Visual Effects Producer\", \"name\": \"Jill Brooks\"}, {\"credit_id\": \"52fe48009251416c750aca4b\", \"department\": \"Production\", \"gender\": 1, \"id\": 6347, \"job\": \"Casting\", \"name\": \"Margery Simkin\"}, {\"credit_id\": \"570b6f419251417da70032fe\", \"department\": \"Art\", \"gender\": 2, \"id\": 6878, \"job\": \"Supervising Art Director\", \"name\": \"Kevin Ishioka\"}, {\"credit_id\": \"5495a0fac3a3686ae9004468\", \"department\": \"Sound\", \"gender\": 0, \"id\": 6883, \"job\": \"Music Editor\", \"name\": \"Dick Bernstein\"}, {\"credit_id\": \"54959706c3a3686af3003e81\", \"department\": \"Sound\", \"gender\": 0, \"id\": 8159, \"job\": \"Sound Effects Editor\", \"name\": \"Shannon Mills\"}, {\"credit_id\": \"54491d58c3a3680fb1001ccb\", \"department\": \"Sound\", \"gender\": 0, \"id\": 8160, \"job\": \"Foley\", \"name\": \"Dennie Thorpe\"}, {\"credit_id\": \"54491d6cc3a3680fa5001b2c\", \"department\": \"Sound\", \"gender\": 0, \"id\": 8163, \"job\": \"Foley\", \"name\": \"Jana Vance\"}, {\"credit_id\": \"52fe48009251416c750aca57\", \"department\": \"Costume & Make-Up\", \"gender\": 1, \"id\": 8527, \"job\": \"Costume Design\", \"name\": \"Deborah Lynn Scott\"}, {\"credit_id\": \"52fe48009251416c750aca2f\", \"department\": \"Production\", \"gender\": 2, \"id\": 8529, \"job\": \"Producer\", \"name\": \"Jon Landau\"}, {\"credit_id\": \"539c4937c3a36810ba002194\", \"department\": \"Art\", \"gender\": 0, \"id\": 9618, \"job\": \"Art Direction\", \"name\": \"Sean Haworth\"}, {\"credit_id\": \"539c49b6c3a36810c10020e6\", \"department\": \"Art\", \"gender\": 1, \"id\": 12653, \"job\": \"Set Decoration\", \"name\": \"Kim Sinclair\"}, {\"credit_id\": \"570b6f2f9251413a0e00020d\", \"department\": \"Art\", \"gender\": 1, \"id\": 12653, \"job\": \"Supervising Art Director\", \"name\": \"Kim Sinclair\"}, {\"credit_id\": \"54491a6c0e0a26748c001b19\", \"department\": \"Art\", \"gender\": 2, \"id\": 14350, \"job\": \"Set Designer\", \"name\": \"Richard F. Mays\"}, {\"credit_id\": \"56928cf4c3a3684cff0025c4\", \"department\": \"Production\", \"gender\": 1, \"id\": 20294, \"job\": \"Executive Producer\", \"name\": \"Laeta Kalogridis\"}, {\"credit_id\": \"52fe48009251416c750aca51\", \"department\": \"Costume & Make-Up\", \"gender\": 0, \"id\": 17675, \"job\": \"Costume Design\", \"name\": \"Mayes C. Rubeo\"}, {\"credit_id\": \"52fe48009251416c750aca11\", \"department\": \"Camera\", \"gender\": 2, \"id\": 18265, \"job\": \"Director of Photography\", \"name\": \"Mauro Fiore\"}, {\"credit_id\": \"5449194d0e0a26748f001b39\", \"department\": \"Art\", \"gender\": 0, \"id\": 42281, \"job\": \"Set Designer\", \"name\": \"Scott Herbertson\"}, {\"credit_id\": \"52fe48009251416c750aca05\", \"department\": \"Crew\", \"gender\": 0, \"id\": 42288, \"job\": \"Stunts\", \"name\": \"Woody Schultz\"}, {\"credit_id\": \"5592aefb92514152de0010f5\", \"department\": \"Costume & Make-Up\", \"gender\": 0, \"id\": 29067, \"job\": \"Makeup Artist\", \"name\": \"Linda DeVetta\"}, {\"credit_id\": \"5592afa492514152de00112c\", \"department\": \"Costume & Make-Up\", \"gender\": 0, \"id\": 29067, \"job\": \"Hairstylist\", \"name\": \"Linda DeVetta\"}, {\"credit_id\": \"54959ed592514130fc002e5d\", \"department\": \"Camera\", \"gender\": 2, \"id\": 33302, \"job\": \"Camera Operator\", \"name\": \"Richard Bluck\"}, {\"credit_id\": \"539c4891c3a36810ba002147\", \"department\": \"Art\", \"gender\": 2, \"id\": 33303, \"job\": \"Art Direction\", \"name\": \"Simon Bright\"}, {\"credit_id\": \"54959c069251417a81001f3a\", \"department\": \"Visual Effects\", \"gender\": 0, \"id\": 113145, \"job\": \"Visual Effects Supervisor\", \"name\": \"Richard Martin\"}, {\"credit_id\": \"54959a0dc3a3680ff5002c8d\", \"department\": \"Crew\", \"gender\": 2, \"id\": 58188, \"job\": \"Visual Effects Editor\", \"name\": \"Steve R. Moore\"}, {\"credit_id\": \"52fe48009251416c750aca1d\", \"department\": \"Editing\", \"gender\": 2, \"id\": 58871, \"job\": \"Editor\", \"name\": \"John Refoua\"}, {\"credit_id\": \"54491a4dc3a3680fc30018ca\", \"department\": \"Art\", \"gender\": 0, \"id\": 92359, \"job\": \"Set Designer\", \"name\": \"Karl J. Martin\"}, {\"credit_id\": \"52fe48009251416c750aca35\", \"department\": \"Camera\", \"gender\": 1, \"id\": 72201, \"job\": \"Director of Photography\", \"name\": \"Chiling Lin\"}, {\"credit_id\": \"52fe48009251416c750ac9ff\", \"department\": \"Crew\", \"gender\": 0, \"id\": 89714, \"job\": \"Stunts\", \"name\": \"Ilram Choi\"}, {\"credit_id\": \"54959c529251416e2b004394\", \"department\": \"Visual Effects\", \"gender\": 2, \"id\": 93214, \"job\": \"Visual Effects Supervisor\", \"name\": \"Steven Quale\"}, {\"credit_id\": \"54491edf0e0a267489001c37\", \"department\": \"Crew\", \"gender\": 1, \"id\": 122607, \"job\": \"Dialect Coach\", \"name\": \"Carla Meyer\"}, {\"credit_id\": \"539c485bc3a368653d001a3a\", \"department\": \"Art\", \"gender\": 2, \"id\": 132585, \"job\": \"Art Direction\", \"name\": \"Nick Bassett\"}, {\"credit_id\": \"539c4903c3a368653d001a74\", \"department\": \"Art\", \"gender\": 0, \"id\": 132596, \"job\": \"Art Direction\", \"name\": \"Jill Cormack\"}, {\"credit_id\": \"539c4967c3a368653d001a94\", \"department\": \"Art\", \"gender\": 0, \"id\": 132604, \"job\": \"Art Direction\", \"name\": \"Andy McLaren\"}, {\"credit_id\": \"52fe48009251416c750aca45\", \"department\": \"Crew\", \"gender\": 0, \"id\": 236696, \"job\": \"Motion Capture Artist\", \"name\": \"Terry Notary\"}, {\"credit_id\": \"54959e02c3a3680fc60027d2\", \"department\": \"Crew\", \"gender\": 2, \"id\": 956198, \"job\": \"Stunt Coordinator\", \"name\": \"Garrett Warren\"}, {\"credit_id\": \"54959ca3c3a3686ae300438c\", \"department\": \"Visual Effects\", \"gender\": 2, \"id\": 957874, \"job\": \"Visual Effects Supervisor\", \"name\": \"Jonathan Rothbart\"}, {\"credit_id\": \"570b6f519251412c74001b2f\", \"department\": \"Art\", \"gender\": 0, \"id\": 957889, \"job\": \"Supervising Art Director\", \"name\": \"Stefan Dechant\"}, {\"credit_id\": \"570b6f62c3a3680b77007460\", \"department\": \"Art\", \"gender\": 2, \"id\": 959555, \"job\": \"Supervising Art Director\", \"name\": \"Todd Cherniawsky\"}, {\"credit_id\": \"539c4a3ac3a36810da0021cc\", \"department\": \"Production\", \"gender\": 0, \"id\": 1016177, \"job\": \"Casting\", \"name\": \"Miranda Rivers\"}, {\"credit_id\": \"539c482cc3a36810c1002062\", \"department\": \"Art\", \"gender\": 0, \"id\": 1032536, \"job\": \"Production Design\", \"name\": \"Robert Stromberg\"}, {\"credit_id\": \"539c4b65c3a36810c9002125\", \"department\": \"Costume & Make-Up\", \"gender\": 2, \"id\": 1071680, \"job\": \"Costume Design\", \"name\": \"John Harding\"}, {\"credit_id\": \"54959e6692514130fc002e4e\", \"department\": \"Camera\", \"gender\": 0, \"id\": 1177364, \"job\": \"Steadicam Operator\", \"name\": \"Roberto De Angelis\"}, {\"credit_id\": \"539c49f1c3a368653d001aac\", \"department\": \"Costume & Make-Up\", \"gender\": 2, \"id\": 1202850, \"job\": \"Makeup Department Head\", \"name\": \"Mike Smithson\"}, {\"credit_id\": \"5495999ec3a3686ae100460c\", \"department\": \"Visual Effects\", \"gender\": 0, \"id\": 1204668, \"job\": \"Visual Effects Producer\", \"name\": \"Alain Lalanne\"}, {\"credit_id\": \"54959cdfc3a3681153002729\", \"department\": \"Visual Effects\", \"gender\": 0, \"id\": 1206410, \"job\": \"Visual Effects Supervisor\", \"name\": \"Lucas Salton\"}, {\"credit_id\": \"549596239251417a81001eae\", \"department\": \"Crew\", \"gender\": 0, \"id\": 1234266, \"job\": \"Post Production Supervisor\", \"name\": \"Janace Tashjian\"}, {\"credit_id\": \"54959c859251416e1e003efe\", \"department\": \"Visual Effects\", \"gender\": 0, \"id\": 1271932, \"job\": \"Visual Effects Supervisor\", \"name\": \"Stephen Rosenbaum\"}, {\"credit_id\": \"5592af28c3a368775a00105f\", \"department\": \"Costume & Make-Up\", \"gender\": 0, \"id\": 1310064, \"job\": \"Makeup Artist\", \"name\": \"Frankie Karena\"}, {\"credit_id\": \"539c4adfc3a36810e300203b\", \"department\": \"Costume & Make-Up\", \"gender\": 1, \"id\": 1319844, \"job\": \"Costume Supervisor\", \"name\": \"Lisa Lovaas\"}, {\"credit_id\": \"54959b579251416e2b004371\", \"department\": \"Visual Effects\", \"gender\": 0, \"id\": 1327028, \"job\": \"Visual Effects Supervisor\", \"name\": \"Jonathan Fawkner\"}, {\"credit_id\": \"539c48a7c3a36810b5001fa7\", \"department\": \"Art\", \"gender\": 0, \"id\": 1330561, \"job\": \"Art Direction\", \"name\": \"Robert Bavin\"}, {\"credit_id\": \"539c4a71c3a36810da0021e0\", \"department\": \"Costume & Make-Up\", \"gender\": 0, \"id\": 1330567, \"job\": \"Costume Supervisor\", \"name\": \"Anthony Almaraz\"}, {\"credit_id\": \"539c4a8ac3a36810ba0021e4\", \"department\": \"Costume & Make-Up\", \"gender\": 0, \"id\": 1330570, \"job\": \"Costume Supervisor\", \"name\": \"Carolyn M. Fenton\"}, {\"credit_id\": \"539c4ab6c3a36810da0021f0\", \"department\": \"Costume & Make-Up\", \"gender\": 0, \"id\": 1330574, \"job\": \"Costume Supervisor\", \"name\": \"Beth Koenigsberg\"}, {\"credit_id\": \"54491ab70e0a267480001ba2\", \"department\": \"Art\", \"gender\": 0, \"id\": 1336191, \"job\": \"Set Designer\", \"name\": \"Sam Page\"}, {\"credit_id\": \"544919d9c3a3680fc30018bd\", \"department\": \"Art\", \"gender\": 0, \"id\": 1339441, \"job\": \"Set Designer\", \"name\": \"Tex Kadonaga\"}, {\"credit_id\": \"54491cf50e0a267483001b0c\", \"department\": \"Editing\", \"gender\": 0, \"id\": 1352422, \"job\": \"Dialogue Editor\", \"name\": \"Kim Foscato\"}, {\"credit_id\": \"544919f40e0a26748c001b09\", \"department\": \"Art\", \"gender\": 0, \"id\": 1352962, \"job\": \"Set Designer\", \"name\": \"Tammy S. Lee\"}, {\"credit_id\": \"5495a115c3a3680ff5002d71\", \"department\": \"Crew\", \"gender\": 0, \"id\": 1357070, \"job\": \"Transportation Coordinator\", \"name\": \"Denny Caira\"}, {\"credit_id\": \"5495a12f92514130fc002e94\", \"department\": \"Crew\", \"gender\": 0, \"id\": 1357071, \"job\": \"Transportation Coordinator\", \"name\": \"James Waitkus\"}, {\"credit_id\": \"5495976fc3a36811530026b0\", \"department\": \"Sound\", \"gender\": 0, \"id\": 1360103, \"job\": \"Supervising Sound Editor\", \"name\": \"Addison Teague\"}, {\"credit_id\": \"54491837c3a3680fb1001c5a\", \"department\": \"Art\", \"gender\": 2, \"id\": 1376887, \"job\": \"Set Designer\", \"name\": \"C. Scott Baker\"}, {\"credit_id\": \"54491878c3a3680fb4001c9d\", \"department\": \"Art\", \"gender\": 0, \"id\": 1376888, \"job\": \"Set Designer\", \"name\": \"Luke Caska\"}, {\"credit_id\": \"544918dac3a3680fa5001ae0\", \"department\": \"Art\", \"gender\": 0, \"id\": 1376889, \"job\": \"Set Designer\", \"name\": \"David Chow\"}, {\"credit_id\": \"544919110e0a267486001b68\", \"department\": \"Art\", \"gender\": 0, \"id\": 1376890, \"job\": \"Set Designer\", \"name\": \"Jonathan Dyer\"}, {\"credit_id\": \"54491967c3a3680faa001b5e\", \"department\": \"Art\", \"gender\": 0, \"id\": 1376891, \"job\": \"Set Designer\", \"name\": \"Joseph Hiura\"}, {\"credit_id\": \"54491997c3a3680fb1001c8a\", \"department\": \"Art\", \"gender\": 0, \"id\": 1376892, \"job\": \"Art Department Coordinator\", \"name\": \"Rebecca Jellie\"}, {\"credit_id\": \"544919ba0e0a26748f001b42\", \"department\": \"Art\", \"gender\": 0, \"id\": 1376893, \"job\": \"Set Designer\", \"name\": \"Robert Andrew Johnson\"}, {\"credit_id\": \"54491b1dc3a3680faa001b8c\", \"department\": \"Art\", \"gender\": 0, \"id\": 1376895, \"job\": \"Assistant Art Director\", \"name\": \"Mike Stassi\"}, {\"credit_id\": \"54491b79c3a3680fbb001826\", \"department\": \"Art\", \"gender\": 0, \"id\": 1376897, \"job\": \"Construction Coordinator\", \"name\": \"John Villarino\"}, {\"credit_id\": \"54491baec3a3680fb4001ce6\", \"department\": \"Art\", \"gender\": 2, \"id\": 1376898, \"job\": \"Assistant Art Director\", \"name\": \"Jeffrey Wisniewski\"}, {\"credit_id\": \"54491d2fc3a3680fb4001d07\", \"department\": \"Editing\", \"gender\": 0, \"id\": 1376899, \"job\": \"Dialogue Editor\", \"name\": \"Cheryl Nardi\"}, {\"credit_id\": \"54491d86c3a3680fa5001b2f\", \"department\": \"Editing\", \"gender\": 0, \"id\": 1376901, \"job\": \"Dialogue Editor\", \"name\": \"Marshall Winn\"}, {\"credit_id\": \"54491d9dc3a3680faa001bb0\", \"department\": \"Sound\", \"gender\": 0, \"id\": 1376902, \"job\": \"Supervising Sound Editor\", \"name\": \"Gwendolyn Yates Whittle\"}, {\"credit_id\": \"54491dc10e0a267486001bce\", \"department\": \"Sound\", \"gender\": 0, \"id\": 1376903, \"job\": \"Sound Re-Recording Mixer\", \"name\": \"William Stein\"}, {\"credit_id\": \"54491f500e0a26747c001c07\", \"department\": \"Crew\", \"gender\": 0, \"id\": 1376909, \"job\": \"Choreographer\", \"name\": \"Lula Washington\"}, {\"credit_id\": \"549599239251412c4e002a2e\", \"department\": \"Visual Effects\", \"gender\": 0, \"id\": 1391692, \"job\": \"Visual Effects Producer\", \"name\": \"Chris Del Conte\"}, {\"credit_id\": \"54959d54c3a36831b8001d9a\", \"department\": \"Visual Effects\", \"gender\": 2, \"id\": 1391695, \"job\": \"Visual Effects Supervisor\", \"name\": \"R. Christopher White\"}, {\"credit_id\": \"54959bdf9251412c4e002a66\", \"department\": \"Visual Effects\", \"gender\": 0, \"id\": 1394070, \"job\": \"Visual Effects Supervisor\", \"name\": \"Dan Lemmon\"}, {\"credit_id\": \"5495971d92514132ed002922\", \"department\": \"Sound\", \"gender\": 0, \"id\": 1394129, \"job\": \"Sound Effects Editor\", \"name\": \"Tim Nielsen\"}, {\"credit_id\": \"5592b25792514152cc0011aa\", \"department\": \"Crew\", \"gender\": 0, \"id\": 1394286, \"job\": \"CG Supervisor\", \"name\": \"Michael Mulholland\"}, {\"credit_id\": \"54959a329251416e2b004355\", \"department\": \"Crew\", \"gender\": 0, \"id\": 1394750, \"job\": \"Visual Effects Editor\", \"name\": \"Thomas Nittmann\"}, {\"credit_id\": \"54959d6dc3a3686ae9004401\", \"department\": \"Visual Effects\", \"gender\": 0, \"id\": 1394755, \"job\": \"Visual Effects Supervisor\", \"name\": \"Edson Williams\"}, {\"credit_id\": \"5495a08fc3a3686ae300441c\", \"department\": \"Editing\", \"gender\": 0, \"id\": 1394953, \"job\": \"Digital Intermediate\", \"name\": \"Christine Carr\"}, {\"credit_id\": \"55402d659251413d6d000249\", \"department\": \"Visual Effects\", \"gender\": 0, \"id\": 1395269, \"job\": \"Visual Effects Supervisor\", \"name\": \"John Bruno\"}, {\"credit_id\": \"54959e7b9251416e1e003f3e\", \"department\": \"Camera\", \"gender\": 0, \"id\": 1398970, \"job\": \"Steadicam Operator\", \"name\": \"David Emmerichs\"}, {\"credit_id\": \"54959734c3a3686ae10045e0\", \"department\": \"Sound\", \"gender\": 0, \"id\": 1400906, \"job\": \"Sound Effects Editor\", \"name\": \"Christopher Scarabosio\"}, {\"credit_id\": \"549595dd92514130fc002d79\", \"department\": \"Production\", \"gender\": 0, \"id\": 1401784, \"job\": \"Production Supervisor\", \"name\": \"Jennifer Teves\"}, {\"credit_id\": \"549596009251413af70028cc\", \"department\": \"Production\", \"gender\": 0, \"id\": 1401785, \"job\": \"Production Manager\", \"name\": \"Brigitte Yorke\"}, {\"credit_id\": \"549596e892514130fc002d99\", \"department\": \"Sound\", \"gender\": 0, \"id\": 1401786, \"job\": \"Sound Effects Editor\", \"name\": \"Ken Fischer\"}, {\"credit_id\": \"549598229251412c4e002a1c\", \"department\": \"Crew\", \"gender\": 0, \"id\": 1401787, \"job\": \"Special Effects Coordinator\", \"name\": \"Iain Hutton\"}, {\"credit_id\": \"549598349251416e2b00432b\", \"department\": \"Crew\", \"gender\": 0, \"id\": 1401788, \"job\": \"Special Effects Coordinator\", \"name\": \"Steve Ingram\"}, {\"credit_id\": \"54959905c3a3686ae3004324\", \"department\": \"Visual Effects\", \"gender\": 0, \"id\": 1401789, \"job\": \"Visual Effects Producer\", \"name\": \"Joyce Cox\"}, {\"credit_id\": \"5495994b92514132ed002951\", \"department\": \"Visual Effects\", \"gender\": 0, \"id\": 1401790, \"job\": \"Visual Effects Producer\", \"name\": \"Jenny Foster\"}, {\"credit_id\": \"549599cbc3a3686ae1004613\", \"department\": \"Crew\", \"gender\": 0, \"id\": 1401791, \"job\": \"Visual Effects Editor\", \"name\": \"Christopher Marino\"}, {\"credit_id\": \"549599f2c3a3686ae100461e\", \"department\": \"Crew\", \"gender\": 0, \"id\": 1401792, \"job\": \"Visual Effects Editor\", \"name\": \"Jim Milton\"}, {\"credit_id\": \"54959a51c3a3686af3003eb5\", \"department\": \"Visual Effects\", \"gender\": 0, \"id\": 1401793, \"job\": \"Visual Effects Producer\", \"name\": \"Cyndi Ochs\"}, {\"credit_id\": \"54959a7cc3a36811530026f4\", \"department\": \"Crew\", \"gender\": 0, \"id\": 1401794, \"job\": \"Visual Effects Editor\", \"name\": \"Lucas Putnam\"}, {\"credit_id\": \"54959b91c3a3680ff5002cb4\", \"department\": \"Visual Effects\", \"gender\": 0, \"id\": 1401795, \"job\": \"Visual Effects Supervisor\", \"name\": \"Anthony \\'Max\\' Ivins\"}, {\"credit_id\": \"54959bb69251412c4e002a5f\", \"department\": \"Visual Effects\", \"gender\": 0, \"id\": 1401796, \"job\": \"Visual Effects Supervisor\", \"name\": \"John Knoll\"}, {\"credit_id\": \"54959cbbc3a3686ae3004391\", \"department\": \"Visual Effects\", \"gender\": 2, \"id\": 1401799, \"job\": \"Visual Effects Supervisor\", \"name\": \"Eric Saindon\"}, {\"credit_id\": \"54959d06c3a3686ae90043f6\", \"department\": \"Visual Effects\", \"gender\": 0, \"id\": 1401800, \"job\": \"Visual Effects Supervisor\", \"name\": \"Wayne Stables\"}, {\"credit_id\": \"54959d259251416e1e003f11\", \"department\": \"Visual Effects\", \"gender\": 0, \"id\": 1401801, \"job\": \"Visual Effects Supervisor\", \"name\": \"David Stinnett\"}, {\"credit_id\": \"54959db49251413af7002975\", \"department\": \"Visual Effects\", \"gender\": 0, \"id\": 1401803, \"job\": \"Visual Effects Supervisor\", \"name\": \"Guy Williams\"}, {\"credit_id\": \"54959de4c3a3681153002750\", \"department\": \"Crew\", \"gender\": 0, \"id\": 1401804, \"job\": \"Stunt Coordinator\", \"name\": \"Stuart Thorp\"}, {\"credit_id\": \"54959ef2c3a3680fc60027f2\", \"department\": \"Lighting\", \"gender\": 0, \"id\": 1401805, \"job\": \"Best Boy Electric\", \"name\": \"Giles Coburn\"}, {\"credit_id\": \"54959f07c3a3680fc60027f9\", \"department\": \"Camera\", \"gender\": 2, \"id\": 1401806, \"job\": \"Still Photographer\", \"name\": \"Mark Fellman\"}, {\"credit_id\": \"54959f47c3a3681153002774\", \"department\": \"Lighting\", \"gender\": 0, \"id\": 1401807, \"job\": \"Lighting Technician\", \"name\": \"Scott Sprague\"}, {\"credit_id\": \"54959f8cc3a36831b8001df2\", \"department\": \"Visual Effects\", \"gender\": 0, \"id\": 1401808, \"job\": \"Animation Director\", \"name\": \"Jeremy Hollobon\"}, {\"credit_id\": \"54959fa0c3a36831b8001dfb\", \"department\": \"Visual Effects\", \"gender\": 0, \"id\": 1401809, \"job\": \"Animation Director\", \"name\": \"Orlando Meunier\"}, {\"credit_id\": \"54959fb6c3a3686af3003f54\", \"department\": \"Visual Effects\", \"gender\": 0, \"id\": 1401810, \"job\": \"Animation Director\", \"name\": \"Taisuke Tanimura\"}, {\"credit_id\": \"54959fd2c3a36831b8001e02\", \"department\": \"Costume & Make-Up\", \"gender\": 0, \"id\": 1401812, \"job\": \"Set Costumer\", \"name\": \"Lilia Mishel Acevedo\"}, {\"credit_id\": \"54959ff9c3a3686ae300440c\", \"department\": \"Costume & Make-Up\", \"gender\": 0, \"id\": 1401814, \"job\": \"Set Costumer\", \"name\": \"Alejandro M. Hernandez\"}, {\"credit_id\": \"5495a0ddc3a3686ae10046fe\", \"department\": \"Editing\", \"gender\": 0, \"id\": 1401815, \"job\": \"Digital Intermediate\", \"name\": \"Marvin Hall\"}, {\"credit_id\": \"5495a1f7c3a3686ae3004443\", \"department\": \"Production\", \"gender\": 0, \"id\": 1401816, \"job\": \"Publicist\", \"name\": \"Judy Alley\"}, {\"credit_id\": \"5592b29fc3a36869d100002f\", \"department\": \"Crew\", \"gender\": 0, \"id\": 1418381, \"job\": \"CG Supervisor\", \"name\": \"Mike Perry\"}, {\"credit_id\": \"5592b23a9251415df8001081\", \"department\": \"Crew\", \"gender\": 0, \"id\": 1426854, \"job\": \"CG Supervisor\", \"name\": \"Andrew Morley\"}, {\"credit_id\": \"55491e1192514104c40002d8\", \"department\": \"Art\", \"gender\": 0, \"id\": 1438901, \"job\": \"Conceptual Design\", \"name\": \"Seth Engstrom\"}, {\"credit_id\": \"5525d5809251417276002b06\", \"department\": \"Crew\", \"gender\": 0, \"id\": 1447362, \"job\": \"Visual Effects Art Director\", \"name\": \"Eric Oliver\"}, {\"credit_id\": \"554427ca925141586500312a\", \"department\": \"Visual Effects\", \"gender\": 0, \"id\": 1447503, \"job\": \"Modeling\", \"name\": \"Matsune Suzuki\"}, {\"credit_id\": \"551906889251415aab001c88\", \"department\": \"Art\", \"gender\": 0, \"id\": 1447524, \"job\": \"Art Department Manager\", \"name\": \"Paul Tobin\"}, {\"credit_id\": \"5592af8492514152cc0010de\", \"department\": \"Costume & Make-Up\", \"gender\": 0, \"id\": 1452643, \"job\": \"Hairstylist\", \"name\": \"Roxane Griffin\"}, {\"credit_id\": \"553d3c109251415852001318\", \"department\": \"Lighting\", \"gender\": 0, \"id\": 1453938, \"job\": \"Lighting Artist\", \"name\": \"Arun Ram-Mohan\"}, {\"credit_id\": \"5592af4692514152d5001355\", \"department\": \"Costume & Make-Up\", \"gender\": 0, \"id\": 1457305, \"job\": \"Makeup Artist\", \"name\": \"Georgia Lockhart-Adams\"}, {\"credit_id\": \"5592b2eac3a36877470012a5\", \"department\": \"Crew\", \"gender\": 0, \"id\": 1466035, \"job\": \"CG Supervisor\", \"name\": \"Thrain Shadbolt\"}, {\"credit_id\": \"5592b032c3a36877450015f1\", \"department\": \"Crew\", \"gender\": 0, \"id\": 1483220, \"job\": \"CG Supervisor\", \"name\": \"Brad Alexander\"}, {\"credit_id\": \"5592b05592514152d80012f6\", \"department\": \"Crew\", \"gender\": 0, \"id\": 1483221, \"job\": \"CG Supervisor\", \"name\": \"Shadi Almassizadeh\"}, {\"credit_id\": \"5592b090c3a36877570010b5\", \"department\": \"Crew\", \"gender\": 0, \"id\": 1483222, \"job\": \"CG Supervisor\", \"name\": \"Simon Clutterbuck\"}, {\"credit_id\": \"5592b0dbc3a368774b00112c\", \"department\": \"Crew\", \"gender\": 0, \"id\": 1483223, \"job\": \"CG Supervisor\", \"name\": \"Graeme Demmocks\"}, {\"credit_id\": \"5592b0fe92514152db0010c1\", \"department\": \"Crew\", \"gender\": 0, \"id\": 1483224, \"job\": \"CG Supervisor\", \"name\": \"Adrian Fernandes\"}, {\"credit_id\": \"5592b11f9251415df8001059\", \"department\": \"Crew\", \"gender\": 0, \"id\": 1483225, \"job\": \"CG Supervisor\", \"name\": \"Mitch Gates\"}, {\"credit_id\": \"5592b15dc3a3687745001645\", \"department\": \"Crew\", \"gender\": 0, \"id\": 1483226, \"job\": \"CG Supervisor\", \"name\": \"Jerry Kung\"}, {\"credit_id\": \"5592b18e925141645a0004ae\", \"department\": \"Crew\", \"gender\": 0, \"id\": 1483227, \"job\": \"CG Supervisor\", \"name\": \"Andy Lomas\"}, {\"credit_id\": \"5592b1bfc3a368775d0010e7\", \"department\": \"Crew\", \"gender\": 0, \"id\": 1483228, \"job\": \"CG Supervisor\", \"name\": \"Sebastian Marino\"}, {\"credit_id\": \"5592b2049251415df8001078\", \"department\": \"Crew\", \"gender\": 0, \"id\": 1483229, \"job\": \"CG Supervisor\", \"name\": \"Matthias Menz\"}, {\"credit_id\": \"5592b27b92514152d800136a\", \"department\": \"Crew\", \"gender\": 0, \"id\": 1483230, \"job\": \"CG Supervisor\", \"name\": \"Sergei Nevshupov\"}, {\"credit_id\": \"5592b2c3c3a36869e800003c\", \"department\": \"Crew\", \"gender\": 0, \"id\": 1483231, \"job\": \"CG Supervisor\", \"name\": \"Philippe Rebours\"}, {\"credit_id\": \"5592b317c3a36877470012af\", \"department\": \"Crew\", \"gender\": 0, \"id\": 1483232, \"job\": \"CG Supervisor\", \"name\": \"Michael Takarangi\"}, {\"credit_id\": \"5592b345c3a36877470012bb\", \"department\": \"Crew\", \"gender\": 0, \"id\": 1483233, \"job\": \"CG Supervisor\", \"name\": \"David Weitzberg\"}, {\"credit_id\": \"5592b37cc3a368775100113b\", \"department\": \"Crew\", \"gender\": 0, \"id\": 1483234, \"job\": \"CG Supervisor\", \"name\": \"Ben White\"}, {\"credit_id\": \"573c8e2f9251413f5d000094\", \"department\": \"Crew\", \"gender\": 1, \"id\": 1621932, \"job\": \"Stunts\", \"name\": \"Min Windle\"}]'"
      ]
     },
     "execution_count": 22,
     "metadata": {},
     "output_type": "execute_result"
    }
   ],
   "source": [
    "movies['crew'][0]\n",
    "# here we have taken job:director\n",
    "# so we have to find the same in this by creating a function\n"
   ]
  },
  {
   "cell_type": "code",
   "execution_count": 23,
   "id": "776f7737",
   "metadata": {},
   "outputs": [],
   "source": [
    "def fetchdirector(obj):\n",
    "    L=[]\n",
    "    for i in ast.literal_eval(obj):\n",
    "        if i['job'] == 'Director':\n",
    "            L.append(i['name'])\n",
    "            break\n",
    "    return L"
   ]
  },
  {
   "cell_type": "code",
   "execution_count": 24,
   "id": "ff64bd00",
   "metadata": {},
   "outputs": [],
   "source": [
    "movies['crew']=movies['crew'].apply(fetchdirector)"
   ]
  },
  {
   "cell_type": "code",
   "execution_count": 25,
   "id": "1d23f4ae",
   "metadata": {},
   "outputs": [
    {
     "data": {
      "text/html": [
       "<div>\n",
       "<style scoped>\n",
       "    .dataframe tbody tr th:only-of-type {\n",
       "        vertical-align: middle;\n",
       "    }\n",
       "\n",
       "    .dataframe tbody tr th {\n",
       "        vertical-align: top;\n",
       "    }\n",
       "\n",
       "    .dataframe thead th {\n",
       "        text-align: right;\n",
       "    }\n",
       "</style>\n",
       "<table border=\"1\" class=\"dataframe\">\n",
       "  <thead>\n",
       "    <tr style=\"text-align: right;\">\n",
       "      <th></th>\n",
       "      <th>movie_id</th>\n",
       "      <th>title</th>\n",
       "      <th>overview</th>\n",
       "      <th>genres</th>\n",
       "      <th>keywords</th>\n",
       "      <th>cast</th>\n",
       "      <th>crew</th>\n",
       "    </tr>\n",
       "  </thead>\n",
       "  <tbody>\n",
       "    <tr>\n",
       "      <th>0</th>\n",
       "      <td>19995</td>\n",
       "      <td>Avatar</td>\n",
       "      <td>In the 22nd century, a paraplegic Marine is di...</td>\n",
       "      <td>[Action, Adventure, Fantasy, Science Fiction]</td>\n",
       "      <td>[culture clash, future, space war, space colon...</td>\n",
       "      <td>[Sam Worthington, Zoe Saldana, Sigourney Weaver]</td>\n",
       "      <td>[James Cameron]</td>\n",
       "    </tr>\n",
       "    <tr>\n",
       "      <th>1</th>\n",
       "      <td>285</td>\n",
       "      <td>Pirates of the Caribbean: At World's End</td>\n",
       "      <td>Captain Barbossa, long believed to be dead, ha...</td>\n",
       "      <td>[Adventure, Fantasy, Action]</td>\n",
       "      <td>[ocean, drug abuse, exotic island, east india ...</td>\n",
       "      <td>[Johnny Depp, Orlando Bloom, Keira Knightley]</td>\n",
       "      <td>[Gore Verbinski]</td>\n",
       "    </tr>\n",
       "    <tr>\n",
       "      <th>2</th>\n",
       "      <td>206647</td>\n",
       "      <td>Spectre</td>\n",
       "      <td>A cryptic message from Bond’s past sends him o...</td>\n",
       "      <td>[Action, Adventure, Crime]</td>\n",
       "      <td>[spy, based on novel, secret agent, sequel, mi...</td>\n",
       "      <td>[Daniel Craig, Christoph Waltz, Léa Seydoux]</td>\n",
       "      <td>[Sam Mendes]</td>\n",
       "    </tr>\n",
       "    <tr>\n",
       "      <th>3</th>\n",
       "      <td>49026</td>\n",
       "      <td>The Dark Knight Rises</td>\n",
       "      <td>Following the death of District Attorney Harve...</td>\n",
       "      <td>[Action, Crime, Drama, Thriller]</td>\n",
       "      <td>[dc comics, crime fighter, terrorist, secret i...</td>\n",
       "      <td>[Christian Bale, Michael Caine, Gary Oldman]</td>\n",
       "      <td>[Christopher Nolan]</td>\n",
       "    </tr>\n",
       "    <tr>\n",
       "      <th>4</th>\n",
       "      <td>49529</td>\n",
       "      <td>John Carter</td>\n",
       "      <td>John Carter is a war-weary, former military ca...</td>\n",
       "      <td>[Action, Adventure, Science Fiction]</td>\n",
       "      <td>[based on novel, mars, medallion, space travel...</td>\n",
       "      <td>[Taylor Kitsch, Lynn Collins, Samantha Morton]</td>\n",
       "      <td>[Andrew Stanton]</td>\n",
       "    </tr>\n",
       "  </tbody>\n",
       "</table>\n",
       "</div>"
      ],
      "text/plain": [
       "   movie_id                                     title   \n",
       "0     19995                                    Avatar  \\\n",
       "1       285  Pirates of the Caribbean: At World's End   \n",
       "2    206647                                   Spectre   \n",
       "3     49026                     The Dark Knight Rises   \n",
       "4     49529                               John Carter   \n",
       "\n",
       "                                            overview   \n",
       "0  In the 22nd century, a paraplegic Marine is di...  \\\n",
       "1  Captain Barbossa, long believed to be dead, ha...   \n",
       "2  A cryptic message from Bond’s past sends him o...   \n",
       "3  Following the death of District Attorney Harve...   \n",
       "4  John Carter is a war-weary, former military ca...   \n",
       "\n",
       "                                          genres   \n",
       "0  [Action, Adventure, Fantasy, Science Fiction]  \\\n",
       "1                   [Adventure, Fantasy, Action]   \n",
       "2                     [Action, Adventure, Crime]   \n",
       "3               [Action, Crime, Drama, Thriller]   \n",
       "4           [Action, Adventure, Science Fiction]   \n",
       "\n",
       "                                            keywords   \n",
       "0  [culture clash, future, space war, space colon...  \\\n",
       "1  [ocean, drug abuse, exotic island, east india ...   \n",
       "2  [spy, based on novel, secret agent, sequel, mi...   \n",
       "3  [dc comics, crime fighter, terrorist, secret i...   \n",
       "4  [based on novel, mars, medallion, space travel...   \n",
       "\n",
       "                                               cast                 crew  \n",
       "0  [Sam Worthington, Zoe Saldana, Sigourney Weaver]      [James Cameron]  \n",
       "1     [Johnny Depp, Orlando Bloom, Keira Knightley]     [Gore Verbinski]  \n",
       "2      [Daniel Craig, Christoph Waltz, Léa Seydoux]         [Sam Mendes]  \n",
       "3      [Christian Bale, Michael Caine, Gary Oldman]  [Christopher Nolan]  \n",
       "4    [Taylor Kitsch, Lynn Collins, Samantha Morton]     [Andrew Stanton]  "
      ]
     },
     "execution_count": 25,
     "metadata": {},
     "output_type": "execute_result"
    }
   ],
   "source": [
    "movies.head()\n",
    "# hence converted:\n"
   ]
  },
  {
   "cell_type": "code",
   "execution_count": 26,
   "id": "1e47120d",
   "metadata": {},
   "outputs": [
    {
     "data": {
      "text/plain": [
       "'In the 22nd century, a paraplegic Marine is dispatched to the moon Pandora on a unique mission, but becomes torn between following orders and protecting an alien civilization.'"
      ]
     },
     "execution_count": 26,
     "metadata": {},
     "output_type": "execute_result"
    }
   ],
   "source": [
    "movies['overview'][0]\n",
    "# this is string we have to convert it to list"
   ]
  },
  {
   "cell_type": "code",
   "execution_count": 27,
   "id": "ee7b8875",
   "metadata": {},
   "outputs": [],
   "source": [
    "movies['overview']=movies['overview'].apply(lambda x:x.split())"
   ]
  },
  {
   "cell_type": "code",
   "execution_count": 28,
   "id": "2797aa5a",
   "metadata": {},
   "outputs": [
    {
     "data": {
      "text/html": [
       "<div>\n",
       "<style scoped>\n",
       "    .dataframe tbody tr th:only-of-type {\n",
       "        vertical-align: middle;\n",
       "    }\n",
       "\n",
       "    .dataframe tbody tr th {\n",
       "        vertical-align: top;\n",
       "    }\n",
       "\n",
       "    .dataframe thead th {\n",
       "        text-align: right;\n",
       "    }\n",
       "</style>\n",
       "<table border=\"1\" class=\"dataframe\">\n",
       "  <thead>\n",
       "    <tr style=\"text-align: right;\">\n",
       "      <th></th>\n",
       "      <th>movie_id</th>\n",
       "      <th>title</th>\n",
       "      <th>overview</th>\n",
       "      <th>genres</th>\n",
       "      <th>keywords</th>\n",
       "      <th>cast</th>\n",
       "      <th>crew</th>\n",
       "    </tr>\n",
       "  </thead>\n",
       "  <tbody>\n",
       "    <tr>\n",
       "      <th>0</th>\n",
       "      <td>19995</td>\n",
       "      <td>Avatar</td>\n",
       "      <td>[In, the, 22nd, century,, a, paraplegic, Marin...</td>\n",
       "      <td>[Action, Adventure, Fantasy, Science Fiction]</td>\n",
       "      <td>[culture clash, future, space war, space colon...</td>\n",
       "      <td>[Sam Worthington, Zoe Saldana, Sigourney Weaver]</td>\n",
       "      <td>[James Cameron]</td>\n",
       "    </tr>\n",
       "    <tr>\n",
       "      <th>1</th>\n",
       "      <td>285</td>\n",
       "      <td>Pirates of the Caribbean: At World's End</td>\n",
       "      <td>[Captain, Barbossa,, long, believed, to, be, d...</td>\n",
       "      <td>[Adventure, Fantasy, Action]</td>\n",
       "      <td>[ocean, drug abuse, exotic island, east india ...</td>\n",
       "      <td>[Johnny Depp, Orlando Bloom, Keira Knightley]</td>\n",
       "      <td>[Gore Verbinski]</td>\n",
       "    </tr>\n",
       "    <tr>\n",
       "      <th>2</th>\n",
       "      <td>206647</td>\n",
       "      <td>Spectre</td>\n",
       "      <td>[A, cryptic, message, from, Bond’s, past, send...</td>\n",
       "      <td>[Action, Adventure, Crime]</td>\n",
       "      <td>[spy, based on novel, secret agent, sequel, mi...</td>\n",
       "      <td>[Daniel Craig, Christoph Waltz, Léa Seydoux]</td>\n",
       "      <td>[Sam Mendes]</td>\n",
       "    </tr>\n",
       "    <tr>\n",
       "      <th>3</th>\n",
       "      <td>49026</td>\n",
       "      <td>The Dark Knight Rises</td>\n",
       "      <td>[Following, the, death, of, District, Attorney...</td>\n",
       "      <td>[Action, Crime, Drama, Thriller]</td>\n",
       "      <td>[dc comics, crime fighter, terrorist, secret i...</td>\n",
       "      <td>[Christian Bale, Michael Caine, Gary Oldman]</td>\n",
       "      <td>[Christopher Nolan]</td>\n",
       "    </tr>\n",
       "    <tr>\n",
       "      <th>4</th>\n",
       "      <td>49529</td>\n",
       "      <td>John Carter</td>\n",
       "      <td>[John, Carter, is, a, war-weary,, former, mili...</td>\n",
       "      <td>[Action, Adventure, Science Fiction]</td>\n",
       "      <td>[based on novel, mars, medallion, space travel...</td>\n",
       "      <td>[Taylor Kitsch, Lynn Collins, Samantha Morton]</td>\n",
       "      <td>[Andrew Stanton]</td>\n",
       "    </tr>\n",
       "  </tbody>\n",
       "</table>\n",
       "</div>"
      ],
      "text/plain": [
       "   movie_id                                     title   \n",
       "0     19995                                    Avatar  \\\n",
       "1       285  Pirates of the Caribbean: At World's End   \n",
       "2    206647                                   Spectre   \n",
       "3     49026                     The Dark Knight Rises   \n",
       "4     49529                               John Carter   \n",
       "\n",
       "                                            overview   \n",
       "0  [In, the, 22nd, century,, a, paraplegic, Marin...  \\\n",
       "1  [Captain, Barbossa,, long, believed, to, be, d...   \n",
       "2  [A, cryptic, message, from, Bond’s, past, send...   \n",
       "3  [Following, the, death, of, District, Attorney...   \n",
       "4  [John, Carter, is, a, war-weary,, former, mili...   \n",
       "\n",
       "                                          genres   \n",
       "0  [Action, Adventure, Fantasy, Science Fiction]  \\\n",
       "1                   [Adventure, Fantasy, Action]   \n",
       "2                     [Action, Adventure, Crime]   \n",
       "3               [Action, Crime, Drama, Thriller]   \n",
       "4           [Action, Adventure, Science Fiction]   \n",
       "\n",
       "                                            keywords   \n",
       "0  [culture clash, future, space war, space colon...  \\\n",
       "1  [ocean, drug abuse, exotic island, east india ...   \n",
       "2  [spy, based on novel, secret agent, sequel, mi...   \n",
       "3  [dc comics, crime fighter, terrorist, secret i...   \n",
       "4  [based on novel, mars, medallion, space travel...   \n",
       "\n",
       "                                               cast                 crew  \n",
       "0  [Sam Worthington, Zoe Saldana, Sigourney Weaver]      [James Cameron]  \n",
       "1     [Johnny Depp, Orlando Bloom, Keira Knightley]     [Gore Verbinski]  \n",
       "2      [Daniel Craig, Christoph Waltz, Léa Seydoux]         [Sam Mendes]  \n",
       "3      [Christian Bale, Michael Caine, Gary Oldman]  [Christopher Nolan]  \n",
       "4    [Taylor Kitsch, Lynn Collins, Samantha Morton]     [Andrew Stanton]  "
      ]
     },
     "execution_count": 28,
     "metadata": {},
     "output_type": "execute_result"
    }
   ],
   "source": [
    "movies.head()\n",
    "# hence finished with data processing:\n"
   ]
  },
  {
   "cell_type": "code",
   "execution_count": 29,
   "id": "5c92ab51",
   "metadata": {},
   "outputs": [],
   "source": [
    "# Transformation:\n",
    "# removing spaces from names that is to transform :\n",
    "#     sam worthington--> samworthington to avoid confusion between same first name\n",
    "movies['genres']=movies['genres'].apply(lambda x:[i.replace(\" \",\"\") for i in x])\n",
    "movies['keywords']=movies['keywords'].apply(lambda x:[i.replace(\" \",\"\") for i in x])\n",
    "movies['cast']=movies['cast'].apply(lambda x:[i.replace(\" \",\"\") for i in x])\n",
    "movies['crew']=movies['crew'].apply(lambda x:[i.replace(\" \",\"\") for i in x])"
   ]
  },
  {
   "cell_type": "code",
   "execution_count": 30,
   "id": "32c945d7",
   "metadata": {},
   "outputs": [
    {
     "data": {
      "text/html": [
       "<div>\n",
       "<style scoped>\n",
       "    .dataframe tbody tr th:only-of-type {\n",
       "        vertical-align: middle;\n",
       "    }\n",
       "\n",
       "    .dataframe tbody tr th {\n",
       "        vertical-align: top;\n",
       "    }\n",
       "\n",
       "    .dataframe thead th {\n",
       "        text-align: right;\n",
       "    }\n",
       "</style>\n",
       "<table border=\"1\" class=\"dataframe\">\n",
       "  <thead>\n",
       "    <tr style=\"text-align: right;\">\n",
       "      <th></th>\n",
       "      <th>movie_id</th>\n",
       "      <th>title</th>\n",
       "      <th>overview</th>\n",
       "      <th>genres</th>\n",
       "      <th>keywords</th>\n",
       "      <th>cast</th>\n",
       "      <th>crew</th>\n",
       "    </tr>\n",
       "  </thead>\n",
       "  <tbody>\n",
       "    <tr>\n",
       "      <th>0</th>\n",
       "      <td>19995</td>\n",
       "      <td>Avatar</td>\n",
       "      <td>[In, the, 22nd, century,, a, paraplegic, Marin...</td>\n",
       "      <td>[Action, Adventure, Fantasy, ScienceFiction]</td>\n",
       "      <td>[cultureclash, future, spacewar, spacecolony, ...</td>\n",
       "      <td>[SamWorthington, ZoeSaldana, SigourneyWeaver]</td>\n",
       "      <td>[JamesCameron]</td>\n",
       "    </tr>\n",
       "    <tr>\n",
       "      <th>1</th>\n",
       "      <td>285</td>\n",
       "      <td>Pirates of the Caribbean: At World's End</td>\n",
       "      <td>[Captain, Barbossa,, long, believed, to, be, d...</td>\n",
       "      <td>[Adventure, Fantasy, Action]</td>\n",
       "      <td>[ocean, drugabuse, exoticisland, eastindiatrad...</td>\n",
       "      <td>[JohnnyDepp, OrlandoBloom, KeiraKnightley]</td>\n",
       "      <td>[GoreVerbinski]</td>\n",
       "    </tr>\n",
       "    <tr>\n",
       "      <th>2</th>\n",
       "      <td>206647</td>\n",
       "      <td>Spectre</td>\n",
       "      <td>[A, cryptic, message, from, Bond’s, past, send...</td>\n",
       "      <td>[Action, Adventure, Crime]</td>\n",
       "      <td>[spy, basedonnovel, secretagent, sequel, mi6, ...</td>\n",
       "      <td>[DanielCraig, ChristophWaltz, LéaSeydoux]</td>\n",
       "      <td>[SamMendes]</td>\n",
       "    </tr>\n",
       "    <tr>\n",
       "      <th>3</th>\n",
       "      <td>49026</td>\n",
       "      <td>The Dark Knight Rises</td>\n",
       "      <td>[Following, the, death, of, District, Attorney...</td>\n",
       "      <td>[Action, Crime, Drama, Thriller]</td>\n",
       "      <td>[dccomics, crimefighter, terrorist, secretiden...</td>\n",
       "      <td>[ChristianBale, MichaelCaine, GaryOldman]</td>\n",
       "      <td>[ChristopherNolan]</td>\n",
       "    </tr>\n",
       "    <tr>\n",
       "      <th>4</th>\n",
       "      <td>49529</td>\n",
       "      <td>John Carter</td>\n",
       "      <td>[John, Carter, is, a, war-weary,, former, mili...</td>\n",
       "      <td>[Action, Adventure, ScienceFiction]</td>\n",
       "      <td>[basedonnovel, mars, medallion, spacetravel, p...</td>\n",
       "      <td>[TaylorKitsch, LynnCollins, SamanthaMorton]</td>\n",
       "      <td>[AndrewStanton]</td>\n",
       "    </tr>\n",
       "  </tbody>\n",
       "</table>\n",
       "</div>"
      ],
      "text/plain": [
       "   movie_id                                     title   \n",
       "0     19995                                    Avatar  \\\n",
       "1       285  Pirates of the Caribbean: At World's End   \n",
       "2    206647                                   Spectre   \n",
       "3     49026                     The Dark Knight Rises   \n",
       "4     49529                               John Carter   \n",
       "\n",
       "                                            overview   \n",
       "0  [In, the, 22nd, century,, a, paraplegic, Marin...  \\\n",
       "1  [Captain, Barbossa,, long, believed, to, be, d...   \n",
       "2  [A, cryptic, message, from, Bond’s, past, send...   \n",
       "3  [Following, the, death, of, District, Attorney...   \n",
       "4  [John, Carter, is, a, war-weary,, former, mili...   \n",
       "\n",
       "                                         genres   \n",
       "0  [Action, Adventure, Fantasy, ScienceFiction]  \\\n",
       "1                  [Adventure, Fantasy, Action]   \n",
       "2                    [Action, Adventure, Crime]   \n",
       "3              [Action, Crime, Drama, Thriller]   \n",
       "4           [Action, Adventure, ScienceFiction]   \n",
       "\n",
       "                                            keywords   \n",
       "0  [cultureclash, future, spacewar, spacecolony, ...  \\\n",
       "1  [ocean, drugabuse, exoticisland, eastindiatrad...   \n",
       "2  [spy, basedonnovel, secretagent, sequel, mi6, ...   \n",
       "3  [dccomics, crimefighter, terrorist, secretiden...   \n",
       "4  [basedonnovel, mars, medallion, spacetravel, p...   \n",
       "\n",
       "                                            cast                crew  \n",
       "0  [SamWorthington, ZoeSaldana, SigourneyWeaver]      [JamesCameron]  \n",
       "1     [JohnnyDepp, OrlandoBloom, KeiraKnightley]     [GoreVerbinski]  \n",
       "2      [DanielCraig, ChristophWaltz, LéaSeydoux]         [SamMendes]  \n",
       "3      [ChristianBale, MichaelCaine, GaryOldman]  [ChristopherNolan]  \n",
       "4    [TaylorKitsch, LynnCollins, SamanthaMorton]     [AndrewStanton]  "
      ]
     },
     "execution_count": 30,
     "metadata": {},
     "output_type": "execute_result"
    }
   ],
   "source": [
    "movies.head()"
   ]
  },
  {
   "cell_type": "code",
   "execution_count": 31,
   "id": "b74c7abf",
   "metadata": {},
   "outputs": [],
   "source": [
    "movies['tags']=movies['overview']+movies['genres']+movies['keywords']+movies['cast']+movies['crew']"
   ]
  },
  {
   "cell_type": "code",
   "execution_count": 32,
   "id": "88651a9b",
   "metadata": {},
   "outputs": [
    {
     "data": {
      "text/html": [
       "<div>\n",
       "<style scoped>\n",
       "    .dataframe tbody tr th:only-of-type {\n",
       "        vertical-align: middle;\n",
       "    }\n",
       "\n",
       "    .dataframe tbody tr th {\n",
       "        vertical-align: top;\n",
       "    }\n",
       "\n",
       "    .dataframe thead th {\n",
       "        text-align: right;\n",
       "    }\n",
       "</style>\n",
       "<table border=\"1\" class=\"dataframe\">\n",
       "  <thead>\n",
       "    <tr style=\"text-align: right;\">\n",
       "      <th></th>\n",
       "      <th>movie_id</th>\n",
       "      <th>title</th>\n",
       "      <th>overview</th>\n",
       "      <th>genres</th>\n",
       "      <th>keywords</th>\n",
       "      <th>cast</th>\n",
       "      <th>crew</th>\n",
       "      <th>tags</th>\n",
       "    </tr>\n",
       "  </thead>\n",
       "  <tbody>\n",
       "    <tr>\n",
       "      <th>0</th>\n",
       "      <td>19995</td>\n",
       "      <td>Avatar</td>\n",
       "      <td>[In, the, 22nd, century,, a, paraplegic, Marin...</td>\n",
       "      <td>[Action, Adventure, Fantasy, ScienceFiction]</td>\n",
       "      <td>[cultureclash, future, spacewar, spacecolony, ...</td>\n",
       "      <td>[SamWorthington, ZoeSaldana, SigourneyWeaver]</td>\n",
       "      <td>[JamesCameron]</td>\n",
       "      <td>[In, the, 22nd, century,, a, paraplegic, Marin...</td>\n",
       "    </tr>\n",
       "    <tr>\n",
       "      <th>1</th>\n",
       "      <td>285</td>\n",
       "      <td>Pirates of the Caribbean: At World's End</td>\n",
       "      <td>[Captain, Barbossa,, long, believed, to, be, d...</td>\n",
       "      <td>[Adventure, Fantasy, Action]</td>\n",
       "      <td>[ocean, drugabuse, exoticisland, eastindiatrad...</td>\n",
       "      <td>[JohnnyDepp, OrlandoBloom, KeiraKnightley]</td>\n",
       "      <td>[GoreVerbinski]</td>\n",
       "      <td>[Captain, Barbossa,, long, believed, to, be, d...</td>\n",
       "    </tr>\n",
       "    <tr>\n",
       "      <th>2</th>\n",
       "      <td>206647</td>\n",
       "      <td>Spectre</td>\n",
       "      <td>[A, cryptic, message, from, Bond’s, past, send...</td>\n",
       "      <td>[Action, Adventure, Crime]</td>\n",
       "      <td>[spy, basedonnovel, secretagent, sequel, mi6, ...</td>\n",
       "      <td>[DanielCraig, ChristophWaltz, LéaSeydoux]</td>\n",
       "      <td>[SamMendes]</td>\n",
       "      <td>[A, cryptic, message, from, Bond’s, past, send...</td>\n",
       "    </tr>\n",
       "    <tr>\n",
       "      <th>3</th>\n",
       "      <td>49026</td>\n",
       "      <td>The Dark Knight Rises</td>\n",
       "      <td>[Following, the, death, of, District, Attorney...</td>\n",
       "      <td>[Action, Crime, Drama, Thriller]</td>\n",
       "      <td>[dccomics, crimefighter, terrorist, secretiden...</td>\n",
       "      <td>[ChristianBale, MichaelCaine, GaryOldman]</td>\n",
       "      <td>[ChristopherNolan]</td>\n",
       "      <td>[Following, the, death, of, District, Attorney...</td>\n",
       "    </tr>\n",
       "    <tr>\n",
       "      <th>4</th>\n",
       "      <td>49529</td>\n",
       "      <td>John Carter</td>\n",
       "      <td>[John, Carter, is, a, war-weary,, former, mili...</td>\n",
       "      <td>[Action, Adventure, ScienceFiction]</td>\n",
       "      <td>[basedonnovel, mars, medallion, spacetravel, p...</td>\n",
       "      <td>[TaylorKitsch, LynnCollins, SamanthaMorton]</td>\n",
       "      <td>[AndrewStanton]</td>\n",
       "      <td>[John, Carter, is, a, war-weary,, former, mili...</td>\n",
       "    </tr>\n",
       "  </tbody>\n",
       "</table>\n",
       "</div>"
      ],
      "text/plain": [
       "   movie_id                                     title   \n",
       "0     19995                                    Avatar  \\\n",
       "1       285  Pirates of the Caribbean: At World's End   \n",
       "2    206647                                   Spectre   \n",
       "3     49026                     The Dark Knight Rises   \n",
       "4     49529                               John Carter   \n",
       "\n",
       "                                            overview   \n",
       "0  [In, the, 22nd, century,, a, paraplegic, Marin...  \\\n",
       "1  [Captain, Barbossa,, long, believed, to, be, d...   \n",
       "2  [A, cryptic, message, from, Bond’s, past, send...   \n",
       "3  [Following, the, death, of, District, Attorney...   \n",
       "4  [John, Carter, is, a, war-weary,, former, mili...   \n",
       "\n",
       "                                         genres   \n",
       "0  [Action, Adventure, Fantasy, ScienceFiction]  \\\n",
       "1                  [Adventure, Fantasy, Action]   \n",
       "2                    [Action, Adventure, Crime]   \n",
       "3              [Action, Crime, Drama, Thriller]   \n",
       "4           [Action, Adventure, ScienceFiction]   \n",
       "\n",
       "                                            keywords   \n",
       "0  [cultureclash, future, spacewar, spacecolony, ...  \\\n",
       "1  [ocean, drugabuse, exoticisland, eastindiatrad...   \n",
       "2  [spy, basedonnovel, secretagent, sequel, mi6, ...   \n",
       "3  [dccomics, crimefighter, terrorist, secretiden...   \n",
       "4  [basedonnovel, mars, medallion, spacetravel, p...   \n",
       "\n",
       "                                            cast                crew   \n",
       "0  [SamWorthington, ZoeSaldana, SigourneyWeaver]      [JamesCameron]  \\\n",
       "1     [JohnnyDepp, OrlandoBloom, KeiraKnightley]     [GoreVerbinski]   \n",
       "2      [DanielCraig, ChristophWaltz, LéaSeydoux]         [SamMendes]   \n",
       "3      [ChristianBale, MichaelCaine, GaryOldman]  [ChristopherNolan]   \n",
       "4    [TaylorKitsch, LynnCollins, SamanthaMorton]     [AndrewStanton]   \n",
       "\n",
       "                                                tags  \n",
       "0  [In, the, 22nd, century,, a, paraplegic, Marin...  \n",
       "1  [Captain, Barbossa,, long, believed, to, be, d...  \n",
       "2  [A, cryptic, message, from, Bond’s, past, send...  \n",
       "3  [Following, the, death, of, District, Attorney...  \n",
       "4  [John, Carter, is, a, war-weary,, former, mili...  "
      ]
     },
     "execution_count": 32,
     "metadata": {},
     "output_type": "execute_result"
    }
   ],
   "source": [
    "movies.head()"
   ]
  },
  {
   "cell_type": "code",
   "execution_count": 33,
   "id": "458f80b4",
   "metadata": {},
   "outputs": [],
   "source": [
    "new_df=movies[['movie_id','title','tags']]"
   ]
  },
  {
   "cell_type": "code",
   "execution_count": 34,
   "id": "18f53ec7",
   "metadata": {},
   "outputs": [
    {
     "data": {
      "text/html": [
       "<div>\n",
       "<style scoped>\n",
       "    .dataframe tbody tr th:only-of-type {\n",
       "        vertical-align: middle;\n",
       "    }\n",
       "\n",
       "    .dataframe tbody tr th {\n",
       "        vertical-align: top;\n",
       "    }\n",
       "\n",
       "    .dataframe thead th {\n",
       "        text-align: right;\n",
       "    }\n",
       "</style>\n",
       "<table border=\"1\" class=\"dataframe\">\n",
       "  <thead>\n",
       "    <tr style=\"text-align: right;\">\n",
       "      <th></th>\n",
       "      <th>movie_id</th>\n",
       "      <th>title</th>\n",
       "      <th>tags</th>\n",
       "    </tr>\n",
       "  </thead>\n",
       "  <tbody>\n",
       "    <tr>\n",
       "      <th>0</th>\n",
       "      <td>19995</td>\n",
       "      <td>Avatar</td>\n",
       "      <td>[In, the, 22nd, century,, a, paraplegic, Marin...</td>\n",
       "    </tr>\n",
       "    <tr>\n",
       "      <th>1</th>\n",
       "      <td>285</td>\n",
       "      <td>Pirates of the Caribbean: At World's End</td>\n",
       "      <td>[Captain, Barbossa,, long, believed, to, be, d...</td>\n",
       "    </tr>\n",
       "    <tr>\n",
       "      <th>2</th>\n",
       "      <td>206647</td>\n",
       "      <td>Spectre</td>\n",
       "      <td>[A, cryptic, message, from, Bond’s, past, send...</td>\n",
       "    </tr>\n",
       "    <tr>\n",
       "      <th>3</th>\n",
       "      <td>49026</td>\n",
       "      <td>The Dark Knight Rises</td>\n",
       "      <td>[Following, the, death, of, District, Attorney...</td>\n",
       "    </tr>\n",
       "    <tr>\n",
       "      <th>4</th>\n",
       "      <td>49529</td>\n",
       "      <td>John Carter</td>\n",
       "      <td>[John, Carter, is, a, war-weary,, former, mili...</td>\n",
       "    </tr>\n",
       "    <tr>\n",
       "      <th>...</th>\n",
       "      <td>...</td>\n",
       "      <td>...</td>\n",
       "      <td>...</td>\n",
       "    </tr>\n",
       "    <tr>\n",
       "      <th>4804</th>\n",
       "      <td>9367</td>\n",
       "      <td>El Mariachi</td>\n",
       "      <td>[El, Mariachi, just, wants, to, play, his, gui...</td>\n",
       "    </tr>\n",
       "    <tr>\n",
       "      <th>4805</th>\n",
       "      <td>72766</td>\n",
       "      <td>Newlyweds</td>\n",
       "      <td>[A, newlywed, couple's, honeymoon, is, upended...</td>\n",
       "    </tr>\n",
       "    <tr>\n",
       "      <th>4806</th>\n",
       "      <td>231617</td>\n",
       "      <td>Signed, Sealed, Delivered</td>\n",
       "      <td>[\"Signed,, Sealed,, Delivered\", introduces, a,...</td>\n",
       "    </tr>\n",
       "    <tr>\n",
       "      <th>4807</th>\n",
       "      <td>126186</td>\n",
       "      <td>Shanghai Calling</td>\n",
       "      <td>[When, ambitious, New, York, attorney, Sam, is...</td>\n",
       "    </tr>\n",
       "    <tr>\n",
       "      <th>4808</th>\n",
       "      <td>25975</td>\n",
       "      <td>My Date with Drew</td>\n",
       "      <td>[Ever, since, the, second, grade, when, he, fi...</td>\n",
       "    </tr>\n",
       "  </tbody>\n",
       "</table>\n",
       "<p>4806 rows × 3 columns</p>\n",
       "</div>"
      ],
      "text/plain": [
       "      movie_id                                     title   \n",
       "0        19995                                    Avatar  \\\n",
       "1          285  Pirates of the Caribbean: At World's End   \n",
       "2       206647                                   Spectre   \n",
       "3        49026                     The Dark Knight Rises   \n",
       "4        49529                               John Carter   \n",
       "...        ...                                       ...   \n",
       "4804      9367                               El Mariachi   \n",
       "4805     72766                                 Newlyweds   \n",
       "4806    231617                 Signed, Sealed, Delivered   \n",
       "4807    126186                          Shanghai Calling   \n",
       "4808     25975                         My Date with Drew   \n",
       "\n",
       "                                                   tags  \n",
       "0     [In, the, 22nd, century,, a, paraplegic, Marin...  \n",
       "1     [Captain, Barbossa,, long, believed, to, be, d...  \n",
       "2     [A, cryptic, message, from, Bond’s, past, send...  \n",
       "3     [Following, the, death, of, District, Attorney...  \n",
       "4     [John, Carter, is, a, war-weary,, former, mili...  \n",
       "...                                                 ...  \n",
       "4804  [El, Mariachi, just, wants, to, play, his, gui...  \n",
       "4805  [A, newlywed, couple's, honeymoon, is, upended...  \n",
       "4806  [\"Signed,, Sealed,, Delivered\", introduces, a,...  \n",
       "4807  [When, ambitious, New, York, attorney, Sam, is...  \n",
       "4808  [Ever, since, the, second, grade, when, he, fi...  \n",
       "\n",
       "[4806 rows x 3 columns]"
      ]
     },
     "execution_count": 34,
     "metadata": {},
     "output_type": "execute_result"
    }
   ],
   "source": [
    "new_df"
   ]
  },
  {
   "cell_type": "code",
   "execution_count": 35,
   "id": "ba972743",
   "metadata": {},
   "outputs": [
    {
     "name": "stderr",
     "output_type": "stream",
     "text": [
      "C:\\Users\\jdpha\\AppData\\Local\\Temp\\ipykernel_27560\\487797088.py:1: SettingWithCopyWarning: \n",
      "A value is trying to be set on a copy of a slice from a DataFrame.\n",
      "Try using .loc[row_indexer,col_indexer] = value instead\n",
      "\n",
      "See the caveats in the documentation: https://pandas.pydata.org/pandas-docs/stable/user_guide/indexing.html#returning-a-view-versus-a-copy\n",
      "  new_df['tags']=new_df['tags'].apply(lambda x:\" \".join(x))\n"
     ]
    }
   ],
   "source": [
    "new_df['tags']=new_df['tags'].apply(lambda x:\" \".join(x))"
   ]
  },
  {
   "cell_type": "code",
   "execution_count": 36,
   "id": "4c92ffa8",
   "metadata": {},
   "outputs": [
    {
     "data": {
      "text/html": [
       "<div>\n",
       "<style scoped>\n",
       "    .dataframe tbody tr th:only-of-type {\n",
       "        vertical-align: middle;\n",
       "    }\n",
       "\n",
       "    .dataframe tbody tr th {\n",
       "        vertical-align: top;\n",
       "    }\n",
       "\n",
       "    .dataframe thead th {\n",
       "        text-align: right;\n",
       "    }\n",
       "</style>\n",
       "<table border=\"1\" class=\"dataframe\">\n",
       "  <thead>\n",
       "    <tr style=\"text-align: right;\">\n",
       "      <th></th>\n",
       "      <th>movie_id</th>\n",
       "      <th>title</th>\n",
       "      <th>tags</th>\n",
       "    </tr>\n",
       "  </thead>\n",
       "  <tbody>\n",
       "    <tr>\n",
       "      <th>0</th>\n",
       "      <td>19995</td>\n",
       "      <td>Avatar</td>\n",
       "      <td>In the 22nd century, a paraplegic Marine is di...</td>\n",
       "    </tr>\n",
       "    <tr>\n",
       "      <th>1</th>\n",
       "      <td>285</td>\n",
       "      <td>Pirates of the Caribbean: At World's End</td>\n",
       "      <td>Captain Barbossa, long believed to be dead, ha...</td>\n",
       "    </tr>\n",
       "    <tr>\n",
       "      <th>2</th>\n",
       "      <td>206647</td>\n",
       "      <td>Spectre</td>\n",
       "      <td>A cryptic message from Bond’s past sends him o...</td>\n",
       "    </tr>\n",
       "    <tr>\n",
       "      <th>3</th>\n",
       "      <td>49026</td>\n",
       "      <td>The Dark Knight Rises</td>\n",
       "      <td>Following the death of District Attorney Harve...</td>\n",
       "    </tr>\n",
       "    <tr>\n",
       "      <th>4</th>\n",
       "      <td>49529</td>\n",
       "      <td>John Carter</td>\n",
       "      <td>John Carter is a war-weary, former military ca...</td>\n",
       "    </tr>\n",
       "  </tbody>\n",
       "</table>\n",
       "</div>"
      ],
      "text/plain": [
       "   movie_id                                     title   \n",
       "0     19995                                    Avatar  \\\n",
       "1       285  Pirates of the Caribbean: At World's End   \n",
       "2    206647                                   Spectre   \n",
       "3     49026                     The Dark Knight Rises   \n",
       "4     49529                               John Carter   \n",
       "\n",
       "                                                tags  \n",
       "0  In the 22nd century, a paraplegic Marine is di...  \n",
       "1  Captain Barbossa, long believed to be dead, ha...  \n",
       "2  A cryptic message from Bond’s past sends him o...  \n",
       "3  Following the death of District Attorney Harve...  \n",
       "4  John Carter is a war-weary, former military ca...  "
      ]
     },
     "execution_count": 36,
     "metadata": {},
     "output_type": "execute_result"
    }
   ],
   "source": [
    "new_df.head()"
   ]
  },
  {
   "cell_type": "code",
   "execution_count": 37,
   "id": "2eb82809",
   "metadata": {},
   "outputs": [
    {
     "data": {
      "text/plain": [
       "'In the 22nd century, a paraplegic Marine is dispatched to the moon Pandora on a unique mission, but becomes torn between following orders and protecting an alien civilization. Action Adventure Fantasy ScienceFiction cultureclash future spacewar spacecolony society spacetravel futuristic romance space alien tribe alienplanet cgi marine soldier battle loveaffair antiwar powerrelations mindandsoul 3d SamWorthington ZoeSaldana SigourneyWeaver JamesCameron'"
      ]
     },
     "execution_count": 37,
     "metadata": {},
     "output_type": "execute_result"
    }
   ],
   "source": [
    "new_df['tags'][0]"
   ]
  },
  {
   "cell_type": "code",
   "execution_count": 38,
   "id": "3c24639f",
   "metadata": {},
   "outputs": [
    {
     "name": "stderr",
     "output_type": "stream",
     "text": [
      "C:\\Users\\jdpha\\AppData\\Local\\Temp\\ipykernel_27560\\1031329985.py:2: SettingWithCopyWarning: \n",
      "A value is trying to be set on a copy of a slice from a DataFrame.\n",
      "Try using .loc[row_indexer,col_indexer] = value instead\n",
      "\n",
      "See the caveats in the documentation: https://pandas.pydata.org/pandas-docs/stable/user_guide/indexing.html#returning-a-view-versus-a-copy\n",
      "  new_df['tags']=new_df['tags'].apply(lambda x:x.lower())\n"
     ]
    }
   ],
   "source": [
    "# converting to lowercase\n",
    "new_df['tags']=new_df['tags'].apply(lambda x:x.lower())"
   ]
  },
  {
   "cell_type": "code",
   "execution_count": 39,
   "id": "5a8eb13a",
   "metadata": {
    "scrolled": true
   },
   "outputs": [
    {
     "data": {
      "text/html": [
       "<div>\n",
       "<style scoped>\n",
       "    .dataframe tbody tr th:only-of-type {\n",
       "        vertical-align: middle;\n",
       "    }\n",
       "\n",
       "    .dataframe tbody tr th {\n",
       "        vertical-align: top;\n",
       "    }\n",
       "\n",
       "    .dataframe thead th {\n",
       "        text-align: right;\n",
       "    }\n",
       "</style>\n",
       "<table border=\"1\" class=\"dataframe\">\n",
       "  <thead>\n",
       "    <tr style=\"text-align: right;\">\n",
       "      <th></th>\n",
       "      <th>movie_id</th>\n",
       "      <th>title</th>\n",
       "      <th>tags</th>\n",
       "    </tr>\n",
       "  </thead>\n",
       "  <tbody>\n",
       "    <tr>\n",
       "      <th>0</th>\n",
       "      <td>19995</td>\n",
       "      <td>Avatar</td>\n",
       "      <td>in the 22nd century, a paraplegic marine is di...</td>\n",
       "    </tr>\n",
       "    <tr>\n",
       "      <th>1</th>\n",
       "      <td>285</td>\n",
       "      <td>Pirates of the Caribbean: At World's End</td>\n",
       "      <td>captain barbossa, long believed to be dead, ha...</td>\n",
       "    </tr>\n",
       "    <tr>\n",
       "      <th>2</th>\n",
       "      <td>206647</td>\n",
       "      <td>Spectre</td>\n",
       "      <td>a cryptic message from bond’s past sends him o...</td>\n",
       "    </tr>\n",
       "    <tr>\n",
       "      <th>3</th>\n",
       "      <td>49026</td>\n",
       "      <td>The Dark Knight Rises</td>\n",
       "      <td>following the death of district attorney harve...</td>\n",
       "    </tr>\n",
       "    <tr>\n",
       "      <th>4</th>\n",
       "      <td>49529</td>\n",
       "      <td>John Carter</td>\n",
       "      <td>john carter is a war-weary, former military ca...</td>\n",
       "    </tr>\n",
       "  </tbody>\n",
       "</table>\n",
       "</div>"
      ],
      "text/plain": [
       "   movie_id                                     title   \n",
       "0     19995                                    Avatar  \\\n",
       "1       285  Pirates of the Caribbean: At World's End   \n",
       "2    206647                                   Spectre   \n",
       "3     49026                     The Dark Knight Rises   \n",
       "4     49529                               John Carter   \n",
       "\n",
       "                                                tags  \n",
       "0  in the 22nd century, a paraplegic marine is di...  \n",
       "1  captain barbossa, long believed to be dead, ha...  \n",
       "2  a cryptic message from bond’s past sends him o...  \n",
       "3  following the death of district attorney harve...  \n",
       "4  john carter is a war-weary, former military ca...  "
      ]
     },
     "execution_count": 39,
     "metadata": {},
     "output_type": "execute_result"
    }
   ],
   "source": [
    "new_df.head()"
   ]
  },
  {
   "cell_type": "code",
   "execution_count": 40,
   "id": "4a288939",
   "metadata": {},
   "outputs": [],
   "source": [
    "# !pip install nltk\n",
    "# class PorterStemmer\n",
    "from nltk.stem.porter import PorterStemmer\n",
    "ps=PorterStemmer()"
   ]
  },
  {
   "cell_type": "code",
   "execution_count": 41,
   "id": "48f8e481",
   "metadata": {},
   "outputs": [],
   "source": [
    "def stem(text):\n",
    "    y=[]\n",
    "    for i in text.split():\n",
    "        y.append(ps.stem(i))\n",
    "    return \" \".join(y)"
   ]
  },
  {
   "cell_type": "code",
   "execution_count": 42,
   "id": "b95bd900",
   "metadata": {},
   "outputs": [
    {
     "name": "stderr",
     "output_type": "stream",
     "text": [
      "C:\\Users\\jdpha\\AppData\\Local\\Temp\\ipykernel_27560\\3514595201.py:1: SettingWithCopyWarning: \n",
      "A value is trying to be set on a copy of a slice from a DataFrame.\n",
      "Try using .loc[row_indexer,col_indexer] = value instead\n",
      "\n",
      "See the caveats in the documentation: https://pandas.pydata.org/pandas-docs/stable/user_guide/indexing.html#returning-a-view-versus-a-copy\n",
      "  new_df['tags']=new_df['tags'].apply(stem)\n"
     ]
    }
   ],
   "source": [
    "new_df['tags']=new_df['tags'].apply(stem)"
   ]
  },
  {
   "cell_type": "code",
   "execution_count": 43,
   "id": "9e10a038",
   "metadata": {},
   "outputs": [
    {
     "data": {
      "text/plain": [
       "'in the 22nd century, a parapleg marin is dispatch to the moon pandora on a uniqu mission, but becom torn between follow order and protect an alien civilization. action adventur fantasi sciencefict cultureclash futur spacewar spacecoloni societi spacetravel futurist romanc space alien tribe alienplanet cgi marin soldier battl loveaffair antiwar powerrel mindandsoul 3d samworthington zoesaldana sigourneyweav jamescameron'"
      ]
     },
     "execution_count": 43,
     "metadata": {},
     "output_type": "execute_result"
    }
   ],
   "source": [
    "# text vectorization\n",
    "new_df['tags'][0]\n",
    "\n",
    "# calculating similarity between both tags"
   ]
  },
  {
   "cell_type": "code",
   "execution_count": 44,
   "id": "71bc4eb8",
   "metadata": {},
   "outputs": [],
   "source": [
    "# !pip install scikit-learn"
   ]
  },
  {
   "cell_type": "code",
   "execution_count": 45,
   "id": "18dd1a33",
   "metadata": {},
   "outputs": [],
   "source": [
    "# using sklearn for using class count vectorization\n",
    "# max_features=how many total words to take \n",
    "# stop words such as are, in , on which we dont need have to be removed therefore \n",
    "from sklearn.feature_extraction.text import CountVectorizer\n",
    "cv=CountVectorizer(max_features=5000,stop_words='english')"
   ]
  },
  {
   "cell_type": "code",
   "execution_count": 46,
   "id": "668770aa",
   "metadata": {},
   "outputs": [],
   "source": [
    "vectors=cv.fit_transform(new_df['tags']).toarray()"
   ]
  },
  {
   "cell_type": "code",
   "execution_count": 47,
   "id": "38e95b06",
   "metadata": {},
   "outputs": [
    {
     "data": {
      "text/plain": [
       "array([[0, 0, 0, ..., 0, 0, 0],\n",
       "       [0, 0, 0, ..., 0, 0, 0],\n",
       "       [0, 0, 0, ..., 0, 0, 0],\n",
       "       ...,\n",
       "       [0, 0, 0, ..., 0, 0, 0],\n",
       "       [0, 0, 0, ..., 0, 0, 0],\n",
       "       [0, 0, 0, ..., 0, 0, 0]], dtype=int64)"
      ]
     },
     "execution_count": 47,
     "metadata": {},
     "output_type": "execute_result"
    }
   ],
   "source": [
    "vectors\n",
    "# all movies are transformed into vectors"
   ]
  },
  {
   "cell_type": "code",
   "execution_count": 48,
   "id": "bac00af9",
   "metadata": {},
   "outputs": [
    {
     "data": {
      "text/plain": [
       "array(['000', '007', '10', ..., 'zone', 'zoo', 'zooeydeschanel'],\n",
       "      dtype=object)"
      ]
     },
     "execution_count": 48,
     "metadata": {},
     "output_type": "execute_result"
    }
   ],
   "source": [
    "cv.get_feature_names_out()"
   ]
  },
  {
   "cell_type": "code",
   "execution_count": 49,
   "id": "3440f9f5",
   "metadata": {},
   "outputs": [
    {
     "data": {
      "text/plain": [
       "dict_keys(['century', 'marin', 'dispatch', 'moon', 'pandora', 'uniqu', 'mission', 'becom', 'torn', 'follow', 'order', 'protect', 'alien', 'action', 'adventur', 'fantasi', 'sciencefict', 'cultureclash', 'futur', 'societi', 'spacetravel', 'futurist', 'romanc', 'space', 'tribe', 'alienplanet', 'soldier', 'battl', '3d', 'zoesaldana', 'sigourneyweav', 'jamescameron', 'captain', 'long', 'believ', 'dead', 'ha', 'come', 'life', 'head', 'edg', 'earth', 'turner', 'elizabeth', 'noth', 'quit', 'ocean', 'drugabus', 'exoticisland', 'loveofone', 'slif', 'traitor', 'shipwreck', 'ship', 'allianc', 'afterlif', 'fighter', 'pirat', 'aftercreditssting', 'johnnydepp', 'orlandobloom', 'keiraknightley', 'goreverbinski', 'messag', 'bond', 'past', 'send', 'trail', 'uncov', 'sinist', 'organization', 'polit', 'forc', 'secret', 'servic', 'alive', 'deceit', 'reveal', 'terribl', 'truth', 'crime', 'spi', 'basedonnovel', 'secretag', 'sequel', 'britishsecretservic', 'danielcraig', 'christophwaltz', 'sammend', 'death', 'district', 'attorney', 'harvey', 'batman', 'assum', 'respons', 'late', 'reput', 'subsequ', 'hunt', 'gotham', 'citi', 'polic', 'year', 'later', 'encount', 'mysteri', 'kyle', 'villain', 'new', 'terrorist', 'leader', 'overwhelm', 'dark', 'knight', 'resurfac', 'brand', 'enemy', 'drama', 'thriller', 'dccomic', 'crimefight', 'secretident', 'burglar', 'gothamc', 'vigilant', 'cover', 'superhero', 'terror', 'destruct', 'imax', 'flood', 'christianbal', 'michaelcain', 'garyoldman', 'christophernolan', 'john', 'carter', 'war', 'militari', 'inexplic', 'transport', 'exot', 'planet', 'reluctantli', 'embroil', 'epic', 'conflict', 'world', 'brink', 'rediscov', 'hi', 'human', 'realiz', 'surviv', 'peopl', 'rest', 'hands', 'mar', 'medallion', 'princess', 'steampunk', 'martian', 'escap', 'superhumanstrength', '19thcenturi', 'samanthamorton', 'seemingli', 'spider', 'man', 'goe', 'includ', 'shape', 'shift', 'superpow', 'alter', 'ego', 'peter', 'parker', 'deal', 'nemesi', 'eddi', 'caught', 'love', 'triangle', 'dualident', 'amnesia', 'forgiv', 'wretch', 'deathofafriend', 'sand', 'hostil', 'marvelcom', 'reveng', 'tobeymaguir', 'kirstendunst', 'jamesfranco', 'samraimi', 'kingdom', 'bandit', 'rider', 'hide', 'tower', 'taken', 'hostag', 'beauti', 'bound', 'teen', '70', 'feet', 'golden', 'hair', 'look', 'ticket', 'lock', 'away', 'years', 'strike', 'handsom', 'thief', 'unlik', 'duo', 'set', 'pack', 'complet', 'super', 'cop', 'gang', 'pub', 'anim', 'famili', 'magic', 'hors', 'fairytal', 'music', 'duringcreditssting', 'mandymoor', 'toni', 'stark', 'tri', 'program', 'thing', 'awri', 'hero', 'ultim', 'test', 'fate', 'hang', 'aveng', 'stop', 'plans', 'soon', 'unexpect', 'way', 'global', 'adventure', 'basedoncomicbook', 'vision', 'marvelcinematicunivers', 'robertdowneyjr', 'chrishemsworth', 'markruffalo', 'harri', 'begin', 'discov', 'old', 'book', 'mark', 'properti', 'half', 'blood', 'prince', 'learn', 'lord', 'witch', 'broom', 'teenagecrush', 'werewolf', 'danielradcliff', 'rupertgrint', 'emmawatson', 'fear', 'god', 'lik', 'left', 'city', 'modern', 'day', 'wrestl', 'sort', 'realli', 'superman', 'threat', 'quickli', 'mankind', 'greater', 'danger', 'known', 'benaffleck', 'zacksnyd', 'return', 'allow', 'walk', 'free', 'wa', 'abandon', 'plot', 'million', 'kill', 'chang', 'face', 'forever', 'rid', 'steel', 'savingtheworld', 'kevinspacey', 'katebosworth', 'bryansing', 'continu', 'jame', 'casino', 'betray', 'woman', '007', 'fight', 'urg', 'make', 'latest', 'pursu', 'determin', 'interrog', 'mr', 'white', 'organ', 'blackmail', 'far', 'complex', 'anyon', 'imagined', 'undercov', 'marcforst', 'jack', 'work', 'debt', 'jones', 'attempt', 'avoid', 'etern', 'fortunetel', 'monster', 'daughter', 'texa', 'ranger', 'chase', 'outlaw', 'led', 'ambush', 'survivor', 'american', 'indian', 'nurs', 'health', 'don', 'mask', 'ride', 'silver', 'team', 'bring', 'justice', 'western', 'partner', 'lawyer', 'train', 'young', 'boy', 'extraordinari', 'power', 'thi', 'journey', 'came', 'sent', 'emerg', 'save', 'symbol', 'hope', 'superhuman', 'alieninvas', 'reboot', 'amyadam', 'michaelshannon', 'incred', 'lion', 'luci', 'susan', 'narnia', 'aid', 'princ', 'threaten', 'evil', 'king', 'help', 'color', 'cast', 'characters', 'clan', 'embark', 'quest', 'ensur', 'right', 'heir', 'fictionalplac', 'brothersisterrelationship', 'matteroflifeanddeath', 'faith', 'uncl', 'fantasyworld', 'enemi', 'safeti', 'nick', 'director', 'intern', 'agenc', 'need', 'pull', 'disaster', 'span', 'globe', 'dare', 'recruit', 'effort', 'begins', 'newyork', 'shield', 'chrisevan', 'cross', 'path', 'sure', 'ruthless', 'artist', 'use', 'fabl', 'youth', 'aboard', 'queen', 'anne', 'revenge', 'formid', 'doesn', 'know', 'sea', 'mutini', 'sword', 'sail', 'duke', 'mermaid', 'penélopecruz', 'agent', 'smith', 'tommi', 'lee', 'time', 'seen', '15', 'men', 'black', 'aliens', 'stake', 'travel', 'univers', 'told', 'themselv', 'josh', 'agency', 'humankind', 'comedi', 'timetravel', 'willsmith', 'tommyleejon', 'joshbrolin', 'barrysonnenfeld', 'immedi', 'event', 'desol', 'dwarv', 'defend', 'mountain', 'treasur', 'claim', 'ruin', 'elv', 'meanwhil', 'armi', 'orc', 'march', 'fuel', 'rise', 'middle', 'fall', 'corrupt', 'hobbit', 'dragon', 'unlikelyfriendship', 'swordandsorceri', 'martinfreeman', 'ianmckellen', 'peterjackson', 'outcast', 'high', 'parent', 'leav', 'rais', 'ben', 'aunt', 'like', 'teenagers', 'figur', 'got', 'person', 'today', 'belong', 'father', 'understand', 'parents', 'disappear', 'lead', 'lab', 'dr', 'collis', 'cours', 'choic', 'destini', 'lossoffath', 'emmaston', 'robin', 'happen', 'die', 'robert', 'promis', 'identity', 'widow', 'draw', 'town', 'sheriff', 'archer', 'middleag', 'mediev', 'russellcrow', 'cateblanchett', 'ridleyscott', 'success', 'mountains', 'gain', 'ring', 'gold', 'wizard', 'shock', 'orphan', 'trade', 'carefre', 'exist', 'roam', 'hall', 'jordan', 'colleg', 'otherworldli', 'north', 'unawar', 'destiny', 'england', 'experi', 'basedonyoungadultnovel', 'nicolekidman', 'chrisweitz', 'york', 'ambiti', 'movi', 'produc', 'hire', 'crew', 'skull', 'island', 'kong', 'giant', 'ape', 'smitten', 'screenplay', 'filmmak', 'filmproduc', 'dinosaur', 'naomiwatt', 'jackblack', 'adrienbrodi', 'rose', 'tell', 'stori', 'lizzi', 'lewi', 'bobbi', 'april', 'titan', 'board', 'depart', 'upper', 'class', 'passeng', 'mother', 'ruth', 'fiancé', 'drifter', 'best', 'friend', 'win', 'game', 'explain', 'voyag', '20', 'panic', 'disast', 'classdiffer', 'starcrossedlov', '1910', 'katewinslet', 'leonardodicaprio', 'age', 'collect', 'govern', 'pass', 'act', 'design', 'polar', 'caus', 'faction', 'iron', 'america', 'civilwar', 'scarlettjohansson', 'beam', 'radio', 'signal', 'form', 'sever', 'craft', 'water', 'hawaii', 'lieuten', 'alex', 'hopper', 'weapon', 'offic', 'assign', 'paul', 'engag', 'unimagin', 'strength', 'live', 'potenti', 'brother', 'admir', 'shane', 'expect', 'navi', 'hongkong', 'soccer', 'scientist', 'peterberg', 'park', 'featur', 'fulli', 'theme', 'origin', 'dna', 'suspens', 'amusementpark', 'animalattack', 'animalhorror', 'grave', 'wrong', 'attack', 'reloc', 'author', 'posit', 'challeng', 'intellig', 'secur', 'insid', 'alli', 'trust', 'shadow', 'onli', 'field', 'eve', 'lethal', 'hidden', 'motiv', 'sociopath', 'killer', 'judidench', 'javierbardem', 'major', 'ident', 'crisis', 'burn', 'decid', 'suffer', 'wake', 'doc', 'feel', 'mari', 'jane', 'girl', 'sinc', 'childhood', 'doctor', 'supervillain', 'apart', 'start', 'odyssey', 'rebuild', 'malibu', 'gwynethpaltrow', 'doncheadl', 'alice', 'individu', '19', 'english', 'party', 'crowd', 'consid', 'marriag', 'hole', 'garden', 'spot', 'unusu', 'rabbit', 'arriv', 'strang', 'surreal', 'place', 'nightmar', 'child', 'talk', 'animals', 'alic', 'reason', 'conquer', 'horrif', 'restor', 'throne', 'annehathaway', 'timburton', 'cure', 'treat', 'line', 'drawn', 'band', 'mutant', 'beast', 'hughjackman', 'halleberri', 'brettratn', 'relationship', 'mike', 'dure', 'friends', 'bestfriend', 'scari', 'billycryst', 'johngoodman', 'stevebuscemi', 'sam', 'normal', 'mind', 'target', 'drag', 'egypt', 'sun', 'chao', 'artifact', 'transform', 'tank', 'robot', 'shialabeouf', 'michaelbay', 'pick', 'vanish', 'group', 'businessman', 'push', 'boundari', 'technolog', 'control', 'ancient', 'menac', 'markwahlberg', 'oscar', 'small', 'tim', 'circu', 'whisk', 'kansa', 'land', 'oz', 'inhabit', 'great', 'clutch', 'illus', 'lost', 'milakuni', 'rachelweisz', 'bad', 'guy', 'spend', 'loves', 'school', 'graduat', 'stay', 'clue', 'obsess', 'jamiefoxx', 'tech', 'son', 'kevin', 'investig', 'dictat', 'real', 'artificialintellig', 'dystopia', 'comput', 'decept', 'duel', 'motorcycl', 'jeffbridg', 'oliviawild', 'star', 'race', 'car', 'lightn', 'pal', 'compet', 'grand', 'road', 'championship', 'rocki', 'intrigu', 'carrac', 'anthropomorph', 'owenwilson', 'centuries', 'warrior', 'green', 'corp', 'intergalact', 'wear', 'grant', 'destroy', 'balanc', 'universe', 'lie', 'hand', 'ryanreynold', 'petersarsgaard', 'martincampbel', 'buzz', 'andy', 'toy', 'haven', 'play', 'andi', 'college', 'accident', 'nefari', 'care', 'center', 'togeth', 'home', 'toycomestolif', 'tomhank', 'timallen', 'grown', 'post', 'apocalypt', 'connor', 'resist', 'increasingli', 'domin', 'marcu', 'wright', 'confus', 'foe', 'propheci', 'sanfrancisco', 'cyborg', 'killerrobot', 'gasstat', 'losangel', 'antonyelchin', 'shaw', 'seek', 'speed', 'vindiesel', 'paulwalk', 'dwaynejohnson', 'jameswan', 'unit', 'nation', 'lane', 'content', 'plagu', 'infect', 'turn', 'popul', 'rampag', 'zombies', 'bare', 'chaos', 'persuad', 'disease', 'peril', 'trek', 'brave', 'odd', 'answer', 'befor', 'civil', 'horror', 'apocalyps', 'zombi', 'bradpitt', 'speci', 'period', 'join', 'younger', 'future', '1970', 'storm', 'jamesmcavoy', 'michaelfassbend', 'enterpris', 'unstopp', 'everyth', 'stand', 'state', 'score', 'kirk', 'manhunt', 'captur', 'mass', 'destruction', 'friendship', 'sacrific', 'spacecraft', 'spaceopera', 'chrispin', 'unwittingli', 'open', 'fearsom', 'unleash', 'strive', 'reclaim', 'onc', 'people', 'thought', 'legend', 'chanc', 'ewanmcgregor', 'adapt', 'scott', 'novel', 'lure', 'lavish', 'neighbor', 'jay', 'crack', 'rich', 'existence', 'obsession', 'madness', 'tragedi', 'await', 'infidel', 'careymulligan', 'rogu', 'capabl', 'releas', 'gift', 'rule', 'basedonvideogam', 'jakegyllenha', 'benkingsley', 'mikenewel', 'legion', 'monstrou', 'creatures', 'began', 'consum', 'humanity', 'resourc', 'end', 'combat', 'special', 'type', 'massiv', 'simultan', 'pilot', 'prove', 'nearli', 'relentless', 'verg', 'defeat', 'heroes', 'charli', 'drive', 'legendari', 'mount', 'apocalypse', 'step', 'adulthood', 'remain', 'reluct', 'prime', 'film', 'usa', 'suggest', 'role', 'secrets', 'bodyguard', 'sabotag', 'commando', 'johnmalkovich', 'cold', 'soviet', 'wield', 'search', 'crystal', 'supernatur', 'relat', 'mystic', 'indi', 'peru', 'colleagu', 'professor', 'knowledg', 'riddl', 'whip', 'machinegun', 'treasurehunt', 'archaeologist', 'archeolog', 'harrisonford', 'stevenspielberg', 'natur', 'jeffreywright', 'scottish', 'accomplish', 'defi', 'sacr', 'custom', 'inadvert', 'turmoil', 'eccentr', 'wise', 'ill', 'fat', 'wish', 'serv', 'comic', 'enorm', 'scotland', 'rebel', 'braveri', 'bear', 'womandirector', 'courag', 'explor', 'reach', 'feder', 'strand', 'hatr', 'karlurban', 'wall', 'overrun', 'clean', 'develop', 'think', 'final', 'romanticcomedi', 'assassin', 'ambassador', 'han', 'inspector', 'detect', 'pari', 'french', 'hold', 'meet', 'struggl', 'chines', 'crimin', 'mastermind', 'jackiechan', 'worldwid', 'effect', 'radiat', 'unpreced', 'solar', 'core', 'heat', 'warn', 'presid', 'thoma', 'wilson', 'unstabl', 'prepar', 'entir', 'writer', 'jackson', 'stumbl', 'build', 'cataclysm', 'family', 'erupt', 'earthquak', 'wreak', 'havoc', 'naturaldisast', 'endoftheworld', 'johncusack', 'amandapeet', 'chiwetelejiofor', 'rolandemmerich', 'miser', 'awaken', 'christma', 'spirit', 'opportun', 'wast', 'current', 'dire', 'doe', 'ways', 'grow', 'bitter', 'redemption', 'holiday', 'money', 'ghost', 'lesson', 'jimcarrey', 'robertzemecki', 'genet', 'materi', 'preciou', 'key', 'strateg', 'interspeciesrom', 'channingtatum', 'seanbean', 'london', 'jungl', 'activ', 'africa', 'sibl', 'lucy', 'peac', 'plung', 'winter', 'children', 'spectacular', 'selfsacrific', 'level', 'plan', 'supernaturalpow', '1980', 'jenniferlawr', 'lt', 'jim', 'gordon', 'streets', 'partnership', 'prey', 'reign', 'terrifi', 'citizen', 'sadism', 'organizedcrim', 'heathledg', 'aaroneckhart', 'carl', 'spent', 'dream', 'experienc', 'twist', 'wilder', 'russell', 'agediffer', 'balloon', 'christopherplumm', 'murphi', 'meteor', 'wed', '11', 'jump', 'covert', 'confin', 'ragtag', 'monsters', 'sethrogen', 'reesewitherspoon', 'held', 'captiv', 'cave', 'billionair', 'engin', 'creat', 'suit', 'armor', 'middleeast', 'armsdeal', 'terrencehoward', 'jonfavreau', 'station', '1930', 'paris', 'fix', 'clock', 'gadget', 'connect', 'mechan', 'unlock', 'adventures', 'georg', 'surpris', 'memori', 'buri', 'regard', 'filmdirector', 'martinscorses', 'southern', 'inventor', 'loveless', 'rekindl', 'gunfight', 'west', 'master', 'disguis', 'thwart', 'basedontvseri', 'kevinklin', 'kennethbranagh', 'rick', 'connel', 'china', 'pit', 'emperor', '000', 'dynasti', 'enlist', 'wife', 'cal', 'abus', 'brendanfras', 'jetli', 'robcohen', 'dc', 'suicid', 'squad', 'antihero', 'government', 'undertak', 'risk', 'exchang', 'prison', 'secretmiss', 'contact', 'fathersonrelationship', 'marriedcoupl', 'support', 'rescu', 'noah', 'stevecarel', 'tomshadyac', 'cage', 'drop', 'manag', 'alpha', 'physic', 'thrown', 'loop', 'tomcruis', 'emilyblunt', 'brendangleeson', 'dougliman', 'ice', 'escape', 'trio', 'covet', 'map', 'tattoo', 'doomsday', 'kevincostn', 'egyptian', 'desert', 'deep', 'elit', 'joe', 'gener', 'arm', 'dealer', 'prevent', 'warhead', 'murder', 'explos', 'laser', 'dennisquaid', 'marlonwayan', 'riley', 'midwest', 'job', 'san', 'francisco', 'guid', 'emot', 'joy', 'anger', 'advis', 'everyday', 'adjust', 'ensu', 'main', 'import', 'navig', 'hous', 'cartoon', 'kid', 'tiger', 'khan', 'flee', 'jungle', 'self', 'discoveri', 'panther', 'snake', 'wolf', 'eleph', 'remak', 'talkinganim', 'billmurray', 'awar', 'pressur', 'press', 'public', 'share', 'let', 'forg', 'confront', 'enemies', 'marri', 'perform', 'violent', 'coup', 'snow', 'decad', 'obtain', 'heart', 'forest', 'immort', 'imprison', 'kristenstewart', 'charlizetheron', 'disney', 'icon', 'classic', 'sleep', 'beauty', 'beautiful', 'pure', 'idyl', 'invad', 'harmoni', 'stone', 'bent', 'successor', 'result', 'curs', 'newborn', 'infant', 'true', 'happi', 'retel', 'angelinajoli', 'aliv', 'aftermath', 'wipe', 'caesar', 'maintain', 'commun', 'coloni', 'wood', 'monkey', 'lover', 'sweep', 'tale', 'imposs', 'backdrop', 'centr', 'charact', 'british', '18th', 'centuri', 'india', 'deepli', 'present', 'joshhartnett', 'base', 'japan', 'endur', 'born', 'samurai', 'vengeanc', 'treacher', 'banish', 'kind', 'honor', 'homeland', 'seri', 'trial', 'ordinari', 'basedontruestori', 'keanureev', 'steve', 'aka', 'washington', 'web', 'expos', 'conspiraci', 'profession', 'silenc', 'everi', 'revealed', 'falcon', 'th', 'washingtond', 'samuell', 'bore', 'domest', 'shrek', 'pact', 'mak', 'ogr', 'version', 'met', 'mikemy', 'eddiemurphi', 'camerondiaz', 'bright', 'scientif', 'geniu', 'jade', 'fil', 'enigmat', 'somewher', 'georgeclooney', 'prodigi', 'brotherbrotherrelationship', 'talent', 'hate', 'ralph', 'foot', 'tall', 'pound', 'video', 'jr', 'want', 'good', 'just', 'enter', 'rush', 'track', 'von', 'affect', 'bulli', 'medal', 'videogam', 'johnc', 'reilli', 'doubt', 'wonder', 'fade', 'santaclau', 'nerd', 'bell', 'beard', 'alway', 'knew', 'recov', 'technology', 'immens', 'defens', 'advanc', 'force', 'women', 'jeffgoldblum', 'billpullman', 'vike', 'shi', 'iii', 'longer', 'instead', 'befriend', 'fli', 'blacksmith', 'arena', 'night', 'villag', 'ignor', 'flight', 'gerardbutl', '10', 'clear', 'anyth', 'trace', 'finish', 'nemesis', 'adult', 'manvsmachin', 'sunglass', 'firemen', 'psychiatrist', 'arnoldschwarzenegg', 'clairedan', 'light', 'spaceship', 'outerspac', 'chronicl', 'newli', 'limit', 'vast', 'involv', 'singlepar', 'nasa', 'expedit', 'raceagainsttim', 'familyrelationship', 'astronaut', 'fatherdaughterrelationship', 'singlefath', 'farmer', 'rel', 'matthewmcconaughey', 'jessicachastain', 'skill', 'commit', 'corpor', 'espionag', 'infiltr', 'offer', 'regain', 'task', 'anoth', 'idea', 'lossoflov', 'kidnap', 'heist', 'redempt', 'josephgordon', 'levitt', 'ellenpag', 'hit', 'larger', 'tear', 'scrambl', 'rag', 'tag', 'volunt', 'cut', 'red', 'tape', 'weak', 'tie', 'foreign', 'greatest', 'catastroph', 'evolv', 'veri', 'eyes', 'enjoy', 'quiet', 'swept', 'tunnel', 'invis', 'lo', 'angel', 'street', 'racer', 'suspect', 'big', 'rig', 'brian', 'sister', 'choos', 'lapd', 'streetgang', 'auto', 'automobilerac', 'michellerodriguez', 'benjamin', 'button', 'bizarr', 'consequences', 'diari', 'funer', 'hospit', 'tildaswinton', 'davidfinch', 'charl', 'took', 'arch', 'cia', '1960', 'katniss', 'showdown', '13', 'stage', 'mortal', 'moral', 'ani', 'hunger', 'games', 'revolut', 'joshhutcherson', 'sorcer', 'manhattan', 'dave', 'averag', 'crash', 'art', 'scienc', 'darkness', 'castl', 'apprentic', 'nicolascag', 'jonturteltaub', 'cruis', 'wave', 'dramat', 'lives', 'newyear', 'sev', 'drown', 'ball', 'singl', 'kurtrussel', 'richarddreyfuss', 'wolfgangpetersen', 'mad', 'amp', 'sad', 'trick', 'assault', 'boardingschool', 'teacher', 'cowardli', 'pregnanc', 'realm', 'portal', 'worlds', 'oppos', 'paulapatton', 'benfost', 'unknown', 'fiction', 'cousin', 'swallow', 'paint', 'fantast', 'goodvsevil', 'simonpegg', 'lifelong', 'danni', 'walker', 'ace', 'entangl', 'triangl', 'johnson', 'rivalri', 'turned', 'devast', 'pearl', 'harbor', 'histori', 'patriot', 'worldwarii', 'airplan', 'katebeckinsal', 'teenager', 'extraterrestri', 'heroic', 'retriev', 'persian', 'empire', 'ventur', 'gone', 'greec', 'campaign', 'homosexu', 'gayrelationship', 'ancientworld', 'colinfarrel', 'valkilm', 'oliverston', 'fifth', 'studi', 'stun', 'choice', 'matter', 'student', 'dub', 'army', 'cuttingthecord', 'childhero', 'dyinganddeath', 'sorcerer', 'blackmag', 'sorceri', 'occult', 'fourth', 'tournament', 'ron', 'teenag', 'employ', 'expert', 'repair', 'imag', 'damag', 'miss', 'successful', 'stick', 'sens', 'purpos', 'slip', 'alcohol', 'forbiddenlov', 'jasonbateman', 'unabl', 'spread', 'viru', 'daili', 'desper', 'alon', 'tour', 'chocol', 'factori', 'candi', 'londonengland', 'parentskidsrelationship', 'rat', 'chef', 'despit', 'problem', 'sewer', 'ideal', 'situat', 'beneath', 'restaur', 'famou', 'august', 'appar', 'visitor', 'kitchen', 'fine', 'restaurant', 'passion', 'cook', 'motion', 'hilari', 'excit', 'upsid', 'river', 'mous', 'confid', 'roof', 'window', 'court', 'driven', 'tragedy', 'bruce', 'dedic', 'underworld', 'himalaya', 'martialart', 'ninja', 'escapad', 'liamneeson', 'penguin', 'chimp', 'yorker', 'hatch', 'crazi', 'plane', 'jealousi', 'danc', 'zoo', 'volcano', 'zebra', 'shark', 'benstil', 'jadapinkettsmith', 'davidschwimm', 'hapless', 'museum', 'larri', 'living', 'breath', 'exhibit', 'transfer', 'institution', 'close', 'lincoln', 'shawnlevi', 'logan', 'girlfriend', 'undergo', 'boxer', 'lievschreib', 'invas', 'machin', 'neo', 'philosophi', 'kungfu', 'subway', 'computerviru', 'supercomput', 'virtualr', 'cyberpunk', 'laurencefishburn', 'carrie', 'annemoss', 'anna', 'fallen', 'accompani', 'deliveri', 'kristenbel', 'month', 'depict', 'matrix', 'humans', 'brought', 'resistance', 'abil', 'code', 'certain', 'pre', 'nasti', 'piec', 'news', 'dig', 'worri', 'veng', 'reunit', 'foster', 'natalieportman', 'landscap', 'broken', 'everyon', 'run', 'abl', 'max', 'loss', 'achiev', 'australia', 'ontherun', 'tomhardi', 'georgemil', 'harvard', 'evid', 'underground', 'rome', 'vatican', 'christian', 'prequel', 'catholic', 'ronhoward', 'mighti', 'arrog', 'darkest', 'newmexico', 'biggest', 'hollywood', 'separ', 'belov', 'owner', 'powers', 'kidsandfamili', 'johntravolta', 'pig', 'mole', 'household', 'shut', 'sentenc', 'pet', 'shop', 'samrockwel', 'fisherman', 'sole', 'rage', 'lack', 'lose', 'mytholog', 'zeu', 'ralphfienn', 'vampir', 'estat', 'fishoutofwat', 'chain', '18thcenturi', 'michellepfeiff', 'helenabonhamcart', 'ethan', 'highli', 'vienna', 'lawrenc', 'visit', 'victorian', 'estrang', 'moonlight', 'savag', 'flesh', 'ruralset', 'beniciodeltoro', 'anthonyhopkin', 'barri', 'bee', 'disillus', 'lone', 'career', 'honey', 'trip', 'outsid', 'vanessa', 'florist', 'actual', 'eat', 'sue', 'flower', 'renéezellweg', 'po', 'valley', 'alongsid', 'fellow', 'kung', 'fu', 'furiou', 'crane', 'succeed', 'dustinhoffman', 'asid', 'air', 'warship', 'arrest', 'nightshyamalan', 'retir', 'duti', 'agents', 'sadist', 'berlin', 'whitehous', 'honeymoon', 'shanghai', 'letter', 'mail', 'celebr', 'philipseymourhoffman', 'policeman', 'deni', 'littl', 'house', 'heavili', 'president', 'country', 'usapresid', 'secretservic', 'suddenli', 'abduct', 'mom', 'mischiev', 'milo', 'whi', 'sbook', 'sethgreen', 'joancusack', 'sid', 'common', 'spike', 'frog', 'orphanage', '12', 'hook', 'rebelli', 'forev', 'pan', 'dog', 'genius', 'spring', 'stolen', 'moment', 'changed', 'adopt', 'childprodigi', 'growingup', 'troubl', 'clash', 'convinc', 'helen', 'husband', 'troy', 'ask', '50', 'greek', 'adulteri', 'fraud', 'swordfight', 'battlefield', 'ericbana', 'appl', 'central', 'attract', 'attent', 'parti', 'julian', 'europ', 'korean', 'replac', 'differ', 'assist', 'exploit', 'satellit', 'piercebrosnan', 'rosamundpik', 'paranorm', 'enthusiast', 'erin', 'nuclear', 'worker', 'femalefriendship', 'kristenwiig', 'asteroid', 'collid', 'dan', 'surfac', 'bomb', 'renown', 'agre', 'provid', 'hotshot', 'isn', 'spacemarin', 'brucewilli', 'billybobthornton', 'kay', 'toughest', 'galaxi', 'illegalimmigr', 'newident', 'flyingsauc', 'descend', 'denmark', 'sin', 'royalti', 'adultanim', 'raywinston', 'huge', 'closer', 'instal', 'series', 'access', 'russian', 'launch', 'states', 'implic', 'jeremyrenn', 'pitch', 'lay', 'guardian', 'belief', 'imagin', 'alecbaldwin', 'judelaw', 'dick', 'handl', 'pretti', 'rob', 'second', 'remind', 'hurt', 'innoc', 'coupl', 'hear', 'boss', 'company', 'robber', 'suburbia', 'humili', 'unemploy', 'téaleoni', 'nathan', 'japanes', 'respect', 'principl', 'warcrim', 'swordplay', 'warveteran', 'mercenari', 'insurg', 'lossofhusband', 'slaughter', 'soldi', 'edwardzwick', 'mose', 'slave', 'deadli', 'bibl', 'joeledgerton', 'johnturturro', 'thrill', 'iowa', 'farm', 'bas', 'reject', 'instinct', 'teleport', 'spacemiss', 'leonardnimoy', 'nerdi', 'amaz', 'thanksgiv', 'willemdafo', 'chapter', 'favorit', 'sport', 'pair', 'chart', 'territori', 'hundr', 'wild', 'peace', 'wifehusbandrelationship', 'mothersonrelationship', 'mythic', 'myth', 'artifici', 'initi', 'jessicabiel', 'altern', '1985', 'glori', 'costum', 'veteran', 'brutal', 'massmurd', 'billycrudup', 'carlagugino', 'maverick', 'martin', 'roger', 'squar', 'asian', 'mobster', 'sing', 'leo', 'smart', 'rooki', 'aim', 'revolv', 'melgibson', 'dannyglov', 'joepesci', 'richarddonn', 'research', 'tragic', 'laboratori', 'california', 'gun', 'mutat', 'psycholog', 'mirror', 'phone', 'cell', 'repress', 'jenniferconnelli', 'angle', 'frame', 'termin', 'presidenti', 'contend', 'missil', 'surveil', 'depth', 'busi', 'usual', 'underwat', 'buddy', 'stevezahn', 'ross', 'eye', 'mentor', 'donaldsutherland', 'ii', 'brooklyn', 'intend', 'devic', 'nazi', 'nazigermani', 'perioddrama', 'greed', 'oil', 'heiress', 'notori', 'culmin', 'submarin', 'suppli', 'royal', 'pursuit', 'devot', 'surgeon', 'paulbettani', 'birth', 'gather', 'fals', 'fangvamp', 'wors', 'shaken', 'forces', 'elijahwood', 'robinwilliam', 'pink', 'fugit', 'virginia', 'angri', 'edwardnorton', 'timroth', 'bone', 'nice', 'lucki', 'sophi', 'carri', 'middl', 'cannib', 'rebeccahal', 'hugh', 'glass', 'rape', 'frontier', 'nativeamerican', 'violenc', 'basedontrueev', '500', 'underdog', 'fast', 'paulgiamatti', 'wind', 'dirt', 'welcom', 'wait', 'nevada', 'lasvega', 'kowalski', 'privat', 'report', 'simon', 'unveil', 'oper', 'project', 'newspap', 'inform', 'stir', 'dodg', 'prosecut', 'falseident', 'revel', 'shootout', 'footchas', 'flashback', 'mattdamon', 'juliastil', 'paulgreengrass', 'lazi', 'chosen', 'slacker', 'won', 'turtl', 'increas', 'inner', 'ant', 'paulrudd', 'michaeldougla', 'safe', 'annual', 'mean', 'victor', 'rebellion', 'competit', 'televis', 'upris', 'femaleprotagonist', 'winner', 'capture', 'lot', 'stevemartin', 'ray', 'divorc', 'perfect', 'ex', 'wif', 'rare', 'weekend', 'touch', 'posttraumaticstressdisord', 'newjersey', 'dakotafan', 'buddi', 'miami', 'narcot', 'bullet', 'laugh', 'explod', 'drug', 'cuba', 'firework', 'playboy', 'secretli', 'sexi', 'mexicanstandoff', 'gangster', 'carchas', 'druglord', 'illegaldrug', 'buddycop', 'actionhero', 'martinlawr', 'tough', 'cat', 'antoniobandera', 'salmahayek', 'zachgalifianaki', 'officer', 'loyalti', 'accus', 'elud', 'question', 'coldwar', 'sovietunion', 'phillipnoyc', 'reporter', 'loyal', 'thrust', 'mystery', 'steal', 'priceless', 'bumbl', 'thompson', 'ahead', 'fortune', 'curse', 'harry', 'convict', 'northern', 'aristocrat', 'inherit', 'ranch', 'stock', 'cattl', 'missionari', 'thousand', 'extend', 'readi', 'chance', 'shower', 'comet', 'prehistor', 'metro', 'date', 'fish', 'mayor', 'rain', 'willferrel', 'potter', 'uncle', 'birthday', 'newfound', 'blame', 'christmasparti', 'halloween', 'chriscolumbu', 'recent', 'undead', 'policeoper', 'kevinbacon', '17th', 'caribbean', 'butt', 'rival', 'port', 'governor', 'kidnapped', 'marriagepropos', 'jamaica', 'skeleton', 'geoffreyrush', 'fame', 'monk', 'secretsocieti', 'jewel', 'amazon', 'fit', 'law', 'bird', 'audit', 'jesseeisenberg', 'lesliemann', 'anti', 'mut', 'col', 'william', 'jean', 'scheme', 'patrickstewart', 'opposit', 'mia', 'broke', 'mani', 'border', 'corner', 'freedom', 'brazil', 'fbi', 'escapefromprison', 'carcrash', 'policechas', 'larg', 'equal', 'detective', 'guyritchi', 'seiz', 'hell', 'demon', 'accept', 'construct', 'chip', 'brain', 'virtual', 'invent', 'plant', 'falselyaccus', 'doublelif', 'telepathi', 'sharonston', 'ad', 'arab', 'iraq', 'johnmctiernan', 'aaron', 'trigger', 'previou', 'jason', 'rooftop', 'freez', 'homicid', 'poison', 'dynam', 'donnel', 'joelschumach', 'christmas', 'creatur', 'lou', 'newlov', 'shepherd', 'trap', 'tornado', 'hurrican', 'evacu', 'climat', 'spain', 'biolog', 'crisi', 'helicopt', 'skyscrap', 'lov', 'thandienewton', 'johnwoo', 'weather', 'condit', 'combin', 'boat', 'lif', 'minut', 'dianelan', 'screen', 'surfer', 'pose', 'resurrect', 'doublecross', 'jessicaalba', 'timstori', 'compani', 'pacif', 'stunt', 'johnni', 'sell', 'soul', 'simpson', 'johnny', 'mephisto', 'religionandsupernatur', 'devil', 'flame', 'evamend', 'wesbentley', 'charg', 'member', 'wit', 'killed', 'ladi', 'robberi', 'drewbarrymor', 'lucyliu', 'android', 'creation', 'guypearc', 'stuart', 'ador', 'happili', 'east', 'store', 'george', 'michaelj', 'fox', 'wealthi', 'secretari', 'hard', 'enforc', 'immigr', 'luxuri', 'lifestyl', 'matt', 'damon', 'jodiefost', 'bounti', 'hunters', 'wage', 'champion', 'drone', 'forbidden', 'controversi', 'detroit', 'critic', 'count', 'machine', 'michaelkeaton', 'brilliant', 'driver', 'leagu', 'cost', 'activities', 'inspir', 'lossofbroth', 'emilehirsch', 'christinaricci', 'bit', 'lisa', 'lovetriangl', 'basebal', 'athlet', 'brook', 'glamor', 'sometim', 'amid', 'airport', 'garag', 'jamesmangold', 'stranger', 'morganfreeman', 'clone', 'wars', 'nobl', 'jedi', 'galaxy', 'ash', 'anakin', 'seduc', 'twin', 'haydenchristensen', 'leadership', 'renegad', 'break', 'senat', 'movement', 'lasergun', 'sullivan', 'earn', 'scare', 'business', 'scream', 'worldwari', 'famkejanssen', 'strong', 'lifetim', 'destroyed', 'stoneag', 'cavemen', 'olymp', 'portray', 'process', 'olympicgam', 'roman', 'ho', 'becaus', 'languag', 'sara', 'settl', 'shredder', 'grip', 'grim', 'fearless', 'cameraman', 'unravel', 'diabol', 'van', 'newyorkc', 'ryan', 'medic', 'shuttl', 'command', 'routin', 'strikes', 'spiral', 'link', 'rescue', 'sandrabullock', 'edharri', 'sleepi', 'worst', 'nightmare', 'smalltown', 'motel', 'cabin', 'rogerdonaldson', 'henchmen', 'similar', 'telekinesi', 'katemara', 'securityguard', 'derang', 'media', 'incid', 'secretintelligenceservic', 'tvstation', 'things', 'prefer', 'simpl', 'gabriel', 'southernusa', 'lossofson', 'lossoffamili', 'gore', 'thiev', 'amsterdam', 'hot', 'catherinezeta', 'jon', 'stevensoderbergh', 'bliss', 'stuck', 'unbeknownst', 'paid', 'mix', 'wick', 'comedy', 'hitman', 'marriagecrisi', 'vincevaughn', 'dystopicfutur', 'youngadult', 'howard', 'becam', 'compuls', 'ladykil', 'biographi', 'congress', 'tini', 'journalist', 'seth', 'largest', 'fortun', 'angeles', 'spoil', 'thu', 'tom', 'dies', 'someth', 'pow', 'criminal', 'christoph', 'vandal', 'nightclub', 'knife', 'frank', 'miller', 'graphic', 'visual', 'style', '300', 'saga', 'fresh', 'basedongraphicnovel', 'handtohandcombat', 'minion', 'lenaheadey', 'blue', 'smurf', 'village', 'fact', 'apple', 'greedi', 'possess', 'heaven', 'kick', 'sky', 'match', 'guys', 'cow', 'custodi', 'near', 'charlie', 'spell', 'patrick', 'grace', 'diamond', 'card', 'intoler', 'mcclane', 'hacker', 'bid', 'internet', 'intent', 'fistfight', 'cellphon', 'justinlong', 'timothyolyph', 'creator', 'doom', 'bet', 'circl', '80', 'days', 'frankcoraci', 'pro', 'victory', 'scene', 'clay', 'bold', 'african', 'ali', 'jonvoight', 'salli', 'door', 'introduc', 'fun', 'boredom', 'stepfath', 'suicide', 'chicago', 'bloodi', 'holi', 'crusad', 'religi', 'jeremyiron', 'misadventur', 'orphanag', 'waitress', 'fulfil', 'kiss', 'voodoo', 'presum', 'fierc', 'isol', 'resid', 'contain', 'environment', 'locat', 'transplant', 'porter', 'architect', 'longtim', 'griffin', 'direct', 'anniversari', 'warrenbeatti', 'dianekeaton', 'happy', 'countless', 'cops', 'throw', 'empir', 'deviou', 'amus', 'pay', 'laid', 'slaveri', 'philosoph', 'joaquinphoenix', '21st', 'predict', 'noir', 'attacks', 'le', 'banker', 'schedul', 'particip', 'stak', 'poker', 'establish', 'financi', 'market', 'attend', 'alreadi', 'itali', 'tortur', 'evad', 'gorilla', 'sarah', 'shotgun', 'era', 'bank', 'charm', 'edgar', 'fledgl', 'elus', 'number', 'melvin', 'cinema', 'luca', 'heroin', 'harlem', 'buy', 'south', 'asia', 'story', 'blackpeopl', 'drugtraff', 'drugsmuggl', 'ambit', 'drugdeal', 'dishonesti', 'denzelwashington', 'florida', 'horsebackrid', 'jamieleecurti', 'hijack', 'ransom', 'walter', 'tonyscott', 'pam', 'greg', 'wound', 'cash', 'dad', 'suspicion', 'male', 'roar', 'skeptic', 'vomit', 'robertdeniro', 'nypd', 'desk', 'sit', 'allen', 'gambl', 'terri', 'background', 'photo', 'focu', 'case', 'narrat', 'ceo', 'buddycomedi', 'marshal', 'enrol', 'manufactur', 'guard', 'marsh', 'jamescaan', 'german', 'hunter', 'mississippi', 'plantat', 'bountyhunt', 'racism', 'dentist', 'quentintarantino', 'festiv', 'cruel', 'gypsi', 'judg', 'ugli', 'religion', 'witchhunt', 'demimoor', 'summon', 'room', 'summer', 'palac', 'davidspad', 'church', 'easi', 'numberintitl', 'airplanecrash', 'ensemblecast', 'sylvesterstallon', 'jasonstatham', 'simonwest', 'rumor', 'revolutionari', 'declar', 'dianekrug', 'egg', 'ira', 'carol', 'crown', 'fort', 'catherinekeen', 'amandaseyfri', 'tourist', 'bud', 'anthoni', 'written', 'hotel', 'undercoverag', '1999', 'body', 'bride', 'christin', 'atheist', 'sex', 'pastor', 'nuditi', 'christ', 'priest', 'satan', 'gabrielbyrn', 'smuggler', 'valu', 'rip', 'journal', 'smuggl', 'oppress', 'stockbrok', 'refus', 'cooper', 'mob', 'sexual', 'humor', 'wallstreet', 'jonahhil', 'fac', 'courtroom', 'accid', 'disfigur', 'edward', 'employe', 'millionair', 'ward', 'psychologist', 'progress', 'non', 'commiss', 'satir', 'deniserichard', '19th', 'distant', 'cloud', 'consequ', 'impact', 'award', 'david', 'jimbroadb', 'barn', 'owl', 'st', 'brainwash', 'soldiers', 'ga', 'ruler', 'conspiracy', 'mild', 'mann', 'wash', 'eager', 'say', 'tail', 'basketbal', 'benjaminbratt', 'ago', 'torment', 'receiv', 'labor', 'battle', 'warm', 'presenc', 'bunch', 'johnhurt', 'loot', 'teach', 'littleboy', 'redneck', 'alienlife', 'barney', 'trader', 'someon', 'members', 'faster', 'extrem', 'point', 'fbiagent', 'aspir', 'babi', 'whale', 'size', 'vengeance', 'harrow', 'despair', 'mate', 'cillianmurphi', 'club', 'bar', 'rosariodawson', 'occup', '2003', 'chief', 'roy', 'rocket', 'site', 'chemic', 'elabor', 'gregkinnear', 'brown', 'dialogu', 'independentfilm', 'unfortunately', 'abov', 'psychot', 'kingpin', 'butcher', 'earlier', 'area', 'irish', 'gangwar', 'danielday', 'refug', 'safety', 'surf', 'idol', 'mockumentari', 'pictur', 'voic', 'jeff', 'zooeydeschanel', 'housewif', 'matthewbroderick', 'bettemidl', 'frankoz', 'warlord', 'shot', 'heavi', 'intens', 'ground', 'prisonersofwar', 'politician', 'elect', 'repres', 'carolina', 'jayroach', 'taxi', 'given', 'miranda', 'samantha', 'vacat', 'destin', 'retreat', 'rememb', 'sarahjessicapark', 'fail', 'el', 'worship', 'nativ', 'worth', 'diego', 'johnleguizamo', 'unexpectedli', 'ella', 'stepmoth', 'daughters', 'dash', 'woods', 'murdered', '14', 'watch', 'grief', 'observ', 'thirst', 'desir', 'heal', 'tree', 'serialkil', 'corps', 'griev', 'susansarandon', 'aquarium', 'friendli', 'forget', 'vegetarian', 'dude', 'hypnot', 'hungri', 'viggomortensen', 'local', 'countri', 'manner', 'howev', 'survive', 'couldn', 'juliannemoor', 'society', 'antiqu', 'goal', 'radic', 'mindcontrol', 'fund', 'alan', 'amanda', 'infam', 'loos', 'host', 'samneil', 'williamh', 'maci', 'alzheimer', 'diseas', 'slowli', 'notic', 'subject', 'especi', 'singlemoth', 'fairi', 'mary', 'nicknolt', 'moscow', 'method', 'russia', 'davi', 'mexican', 'santa', 'texas', 'bob', 'insur', 'nelson', 'adam', 'difficult', 'rennyharlin', 'loganlerman', 'typic', 'cowboy', 'camp', 'collector', 'al', 'woodi', 'truli', 'runaway', 'toxic', 'pennsylvania', 'hong', 'ladies', 'complic', 'zhangziyi', 'clair', 'spencer', 'hauntedhous', 'haunt', 'flint', 'food', 'enabl', 'feed', 'billhad', 'annafari', 'motor', 'mouth', 'tooth', 'bridg', 'insan', 'magazin', 'daydream', 'missing', 'photograph', 'skateboard', 'aspect', 'tv', 'dylan', 'traffic', 'martial', 'boston', 'mafia', 'favor', 'undercovercop', 'jacknicholson', 'imperi', 'li', 'luck', 'vietnam', 'memoir', 'tropic', 'budget', 'studio', 'execut', 'actor', 'production', 'gangs', 'moviestar', 'disgrac', 'patriarch', 'niec', '40', 'punk', 'hack', 'civilian', 'demand', 'coffin', 'rachelmcadam', 'propos', 'dump', 'chipmunk', 'jasonle', 'germani', 'unfold', 'player', 'colonel', 'isra', 'll', 'fake', 'israel', 'mossad', 'adamsandl', 'dennisdugan', 'michellemonaghan', 'gradual', 'circumst', 'prostitut', 'lossofmoth', 'extraterrestrialtechnolog', 'pinocchio', 'doppelgang', 'haleyjoelos', 'workahol', 'mansion', 'butler', 'decis', 'reality', 'fanat', 'spiritu', 'jameswood', 'sebastian', 'formula', 'eventu', 'results', 'elisabethshu', 'interpret', 'investigate', 'seanpenn', 'box', 'outwit', 'bend', 'magician', 'woodyharrelson', 'emma', 'bishop', 'robertredford', 'garysinis', 'timrobbin', 'briandepalma', 'minnesota', 'linda', 'word', 'female', 'richard', 'product', 'andrew', 'youngest', 'purchas', 'creativ', 'shatter', 'morn', 'la', 'service', 'franki', 'deadliest', 'weapons', 'anonym', 'conan', 'hord', 'massacr', 'pain', 'wilderness', 'repay', '1920', 'comeback', 'social', 'poor', 'netherland', 'sdailylif', 'doll', 'racehors', 'victori', 'lift', 'horserac', 'chriscoop', 'sign', 'paper', 'melissa', 'nature', 'truck', 'helenhunt', 'billpaxton', 'caryelw', 'chuck', 'kelly', 'marriage', 'ditch', 'suicideattempt', 'loneli', 'song', 'tap', 'crush', 'brittanymurphi', 'document', 'seasid', 'sniper', 'conspir', 'hostage', 'tak', 'negoti', 'glennclos', '24', 'hour', 'charismat', 'roll', 'danny', 'specialist', 'vega', 'reconcil', 'tess', 'stripclub', 'musket', 'doubl', 'millajovovich', 'paulw', 'anderson', 'dracula', 'resort', 'ag', 'backpack', 'frankenstein', 'realiti', 'environ', 'chaotic', 'view', 'jamesmarsden', 'verafarmiga', 'outrag', 'puppi', 'staff', 'amateur', 'petti', 'crook', 'caseyaffleck', 'kate', 'britain', 'countryhous', 'multiplestorylin', 'dean', 'victim', 'theft', 'genehackman', 'divorce', 'jake', 'married', 'merylstreep', 'compos', 'willi', 'vow', 'season', 'reli', 'elliot', 'ralli', 'bunni', 'ashtonkutch', 'divid', 'brazilian', 'seannwilliamscott', 'movieinmovi', 'spoof', 'romant', 'maid', 'sistersisterrelationship', 'brothel', 'jail', 'sean', 'tokyo', 'low', 'rent', 'section', 'drift', 'carjourney', 'arthur', 'misfit', 'dawn', 'billnighi', 'reaper', 'parrish', 'vacation', 'agenda', 'lifeanddeath', 'loveatfirstsight', 'claireforlani', 'credit', 'colombia', 'eliaskotea', 'semi', 'strip', 'collaps', 'broadway', 'surgeri', 'seven', 'insecur', 'juliarobert', 'canadian', '23', 'rockstar', 'character', 'rapidli', 'liter', 'resolv', 'hilaryswank', 'loose', 'peterseg', 'invit', 'freddieprinzejr', 'sarahmichellegellar', 'matthewlillard', 'wasteland', 'ma', 'possibl', 'urban', 'deliv', 'rank', 'popular', 'extremeviol', 'psychic', 'justic', 'remot', 'forward', 'aris', 'regret', 'heartattack', 'christopherwalken', '1950s', 'romero', 'stephen', 'antholog', 'georgea', 'canin', 'christinaappleg', 'instantli', 'bloodthirsti', 'survival', 'adolesc', 'lossofchild', 'auction', 'selmablair', 'serial', 'bay', 'built', 'endless', 'plannedmurd', 'embassi', 'sci', 'rate', 'ridicul', 'lovesick', 'prayer', 'jenniferaniston', 'scout', 'blade', 'tactic', 'sharp', 'drunken', 'hallucin', 'blind', 'hangov', 'thailand', 'stu', 'wedding', 'bachelor', 'bangkok', 'bradleycoop', 'toddphillip', 'disord', 'christmastre', 'dannydevito', 'mismatch', 'suburban', 'pop', 'vorort', 'older', 'wacki', 'dinner', 'mile', 'rock', 'appoint', 'tsunami', 'robertduval', 'coach', 'inmat', 'footbal', 'americanfootbal', 'supervisor', 'chrisrock', 'grew', 'kevinjam', 'promot', 'analyst', 'leg', 'industri', 'awkward', 'daniel', 'patient', '1950', 'bust', 'pride', 'dysfunctionalfamili', 'better', 'rageandh', 'joanallen', 'nephew', 'entertain', 'events', 'imaginari', 'adamshankman', 'jenniferjasonleigh', 'pretend', 'assistant', 'beach', 'beautifulwoman', 'trouble', 'bag', 'creepi', 'jerri', 'rachel', 'twinbroth', 'confeder', 'energi', 'sweetheart', 'object', 'luke', 'hill', 'unfortun', 'guest', 'trauma', 'insomnia', 'loner', 'michael', 'franc', 'stadium', 'disappears', 'murderhunt', 'jeanreno', 'went', 'evolut', 'change', 'speak', 'ufo', 'poweroutag', 'kathyb', 'theori', 'taxidriv', 'paranoia', 'wheelchair', 'european', 'theater', 'sergeant', 'divis', 'lines', 'germany', 'fashion', 'editor', 'ivanreitman', 'worse', 'danaykroyd', 'justintimberlak', 'cavalri', 'prospect', 'robinson', 'williamhurt', 'raymond', 'knock', 'broker', 'vice', 'didn', 'appear', 'sight', 'rubi', 'vlad', 'cool', 'blend', 'add', 'jill', 'saw', 'hara', 'account', 'necessari', 'stanley', 'femalenud', 'lax', 'file', 'comfort', 'union', 'mexico', 'americancivilwar', 'chri', 'anni', 'cubagoodingjr', 'patriciaarquett', 'harveykeitel', 'enchant', 'requir', 'literatur', 'terrygilliam', 'annetteben', 'hospital', 'disrupt', 'pregnant', 'julie', 'devis', 'obstacl', 'stalk', 'affair', 'spark', 'atomicbomb', 'brucegreenwood', 'jersey', 'kit', 'audienc', 'documentari', 'manipul', 'profit', 'resources', 'tyler', 'forestwhitak', 'duck', 'feud', 'tire', 'contract', 'dj', 'escort', 'liveactionandanim', 'script', 'week', 'shoot', 'mistress', 'muse', 'shakespear', 'willpatton', 'babe', 'contest', 'injur', 'viciou', 'yearn', 'awry', 'grandfath', 'grandmoth', 'block', 'flat', 'unless', 'sub', 'reaction', 'disastr', 'merchant', 'university', 'legaci', 'prize', 'paranoid', 'mental', 'statu', 'mathematician', 'schizophrenia', 'mathemat', 'delus', 'crave', 'titl', 'lossofpar', 'scar', 'boyfriend', 'grandfather', 'missingperson', 'psychopath', 'advertis', 'kids', 'dread', 'aggress', 'katieholm', 'alpacino', 'double', 'shadi', 'monica', 'johnsingleton', 'sel', 'motherdaughterrelationship', 'epidem', 'financ', 'roadmovi', 'renerusso', 'piperperabo', 'terrier', 'stray', 'kevinhart', 'cun', 'bite', 'seanconneri', 'fallinginlov', 'juli', 'conduct', 'independ', 'ran', 'malcolm', 'breed', 'behavior', 'activist', 'miracul', 'hippi', 'miracl', 'cliveowen', 'academi', 'wesley', 'missionofmurd', 'alcatraz', '100', 'prompt', 'situation', 'henri', 'quirki', 'total', 'delight', 'short', 'term', 'woo', 'tvshow', 'basedonstagemus', 'xenophobia', 'traumat', 'wwii', 'somebodi', 'exorc', 'demonicpossess', 'niece', 'reward', 'vault', 'swing', 'mariabello', 'nobodi', 'quarantin', 'transit', 'simpli', 'stewardess', '16', 'quick', 'emmarobert', 'austin', 'highest', 'annie', 'assembl', 'climb', 'afghanistan', 'dollar', 'secretlov', 'singer', 'drugaddict', 'oscaraward', 'extramaritalaffair', 'musicband', 'industry', 'umathurman', 'garygray', 'hotelroom', 'ciaránhind', 'seal', 'surround', 'antoinefuqua', 'romance', 'katherineheigl', 'height', 'upset', 'kgb', 'admit', 'cultur', 'tension', 'different', 'upperclass', 'relationshipproblem', 'bed', 'frighten', 'barrylevinson', 'timeless', 'richardger', 'deathpenalti', 'chowyun', 'bail', 'mickeyrourk', 'beat', 'guilt', 'homeinvas', 'harrison', 'ford', 'instructor', 'solv', 'rapmus', 'todd', 'elimin', 'soundtrack', 'seclud', 'horrifi', 'coma', 'bodi', 'parallelworld', 'price', 'robinwright', 'cope', 'asylum', 'policeoffic', 'volatil', 'finn', 'cemeteri', 'yacht', 'bahama', 'scubadiv', 'katehudson', 'comedian', 'cancer', 'facil', 'jennifergarn', 'ricki', 'shake', 'coast', 'eventually', 'cheat', 'lake', 'alaska', 'mistaken', 'jimmi', 'chill', 'suppress', 'rural', 'liber', 'cup', 'paulnewman', 'write', 'maggi', 'femal', 'garrymarshal', 'junki', 'exactli', 'bikini', 'surface', 'criminals', 'baby', 'snatch', 'occupi', 'jewish', 'guerrilla', 'jew', 'wasn', 'suppos', 'did', 'capt', 'steven', 'variou', 'wealth', 'gorgeou', 'sofia', 'horribl', 'pool', 'swimmingpool', 'arctic', 'predat', 'sensat', 'stardom', '25', 'ignit', 'fought', 'vietnamveteran', 'vietnamwar', 'ban', 'building', 'respond', 'bigger', 'angelabassett', 'starfleet', 'picard', 'jonathanfrak', 'expected', 'publish', 'albert', 'joey', 'sold', 'history', 'focus', 'nuclearmissil', 'economi', 'boys', 'islam', 'muslim', 'countrysid', 'unrequitedlov', 'tibet', 'davidthewli', 'ronni', 'firm', 'dilemma', 'winonaryd', 'educ', 'operation', 'hustler', 'hiddencamera', 'mistakenident', 'imperson', 'inject', 'kelli', 'catch', 'arnold', 'vampire', 'stephenrea', 'dreams', 'senior', 'silent', 'orchestr', 'nearbi', 'unwit', 'hart', 'times', 'rebecca', 'jonathan', 'instant', 'superstar', 'seriou', 'roller', 'chrisklein', 'freeman', 'ravag', 'hoodlum', 'christianslat', 'bobbyfarrelli', 'dorothi', 'pierr', 'ski', 'polli', 'promin', 'novelist', 'yard', 'seduct', 'malenud', 'proof', 'jimcaviezel', 'lust', 'overthrow', 'tyrann', 'insight', 'advic', 'happens', 'bella', 'seattl', 'midst', 'jacob', 'gotten', 'marlonbrando', 'ballet', 'jasonsegel', 'wesleysnip', 'jenniferlopez', 'newlyw', 'ted', 'histor', 'concern', 'cult', 'historicalfigur', 'oscarisaac', 'aren', 'tool', 'fred', 'approach', 'whatev', '60', 'interview', 'blizzard', 'markstrong', 'creature', 'distrust', 'shadowi', 'element', 'secretorgan', 'davidduchovni', 'ancientrom', 'colinfirth', 'troop', '1940', 'illeg', 'marisatomei', 'overcom', 'thomasjan', 'office', 'slavery', 'speech', 'familyconflict', '1971', 'heroism', '200', 'calvin', 'els', 'gig', 'france', 'parol', 'megryan', 'dale', 'constant', 'strain', 'becominganadult', 'twenti', 'spanish', 'foil', 'wallet', 'list', 'highway', 'hitchhik', 'loui', 'runner', 'neil', 'elderli', 'clinteastwood', 'utah', 'midlifecrisi', 'suppressedpast', 'emilymortim', 'katherin', 'ann', 'conserv', 'row', 'sexualobsess', 'erotic', 'marijuana', 'illegalprostitut', 'candid', 'youngster', 'rosebyrn', 'jess', 'wing', 'uncomfort', 'fatal', 'conman', 'kriskristofferson', 'mid', 'colorado', 'pistol', 'patrol', 'wander', 'presidentialelect', 'scandal', 'bush', 'emmathompson', 'corporation', 'outbreak', 'blow', 'thug', 'darkcomedi', 'davidmors', 'daxshepard', 'salesman', 'fans', 'trainer', 'andiemacdowel', 'lotteri', 'rough', 'lisakudrow', 'oliv', 'childabus', 'experience', 'robertrodriguez', 'dutch', 'kristinscottthoma', 'snowstorm', 'hike', 'lonewolf', 'nose', 'submachinegun', 'clown', 'reviv', 'gunsling', 'cartel', 'police', 'dress', 'realis', 'wade', 'robrein', 'hockey', 'guru', 'bollywood', 'elvi', 'partners', 'courteneycox', 'shelter', 'wyom', 'said', 'plenti', 'gentl', 'mentallydis', 'biker', 'roadtrip', 'hyster', 'chicken', 'spotlight', 'georgia', 'campbell', 'joseph', 'broadcast', 'opera', 'lauralinney', 'odds', 'dea', 'bankrobberi', 'venic', 'caper', 'depend', 'legal', 'hughgrant', 'switch', 'general', 'woodyallen', 'session', 'examin', 'cole', 'smash', 'eugenelevi', 'maze', 'brien', 'zone', 'pleasur', 'gunman', 'helenmirren', 'quarterback', 'montana', 'sour', 'peasant', 'exact', 'baltimor', 'request', 'bargain', 'sharkattack', 'footag', 'popstar', 'concert', 'terminalil', 'musician', 'anthonyanderson', 'parallel', 'everybodi', 'elliott', 'moor', 'betti', 'uptight', 'ken', 'constantli', 'karat', 'puppet', 'raid', 'jan', 'cynic', 'clients', 'rightandjustic', 'norman', 'ritual', 'stopmot', 'jock', 'deputi', 'sensit', 'network', 'raw', 'warren', 'chauffeur', 'clark', 'jenniferlovehewitt', 'navys', 'stevenseag', 'davido', 'russel', 'funeral', 'ripley', 'died', 'exil', 'rifl', 'mostli', 'gari', 'evanrachelwood', 'mistakenli', 'elizabethbank', 'triumph', 'pageant', 'stan', 'mickey', 'cohen', 'drugs', 'ryangosl', 'haroldrami', 'racial', 'econom', 'apartheid', 'rugbi', 'southafrica', 'poverti', 'upcom', 'jeffdaniel', 'darylhannah', 'donaldpetri', 'kiefersutherland', 'reminisc', 'beverli', 'fetish', 'tycoon', 'joelcoen', 'gu', 'check', 'disturb', 'gruesom', 'stress', 'therapist', 'dirtycop', 'autism', 'homeless', 'golf', 'comingofag', 'garfield', 'sidekick', 'record', 'icecub', 'vampires', 'sailor', 'pregnancyandbirth', 'actress', 'pornographi', '17', 'demons', 'companion', 'warlock', 'apartment', 'bedroom', 'clerk', 'camera', 'denni', 'rayliotta', 'turbul', 'heartbreak', '30', 'kellypreston', 'stephenherek', 'madison', 'flirt', 'vegas', 'sportsteam', 'johnkrasinski', 'brothers', 'jobinterview', 'ethic', 'teens', 'harder', 'lloyd', 'fiance', 'italian', 'deceas', 'hometown', 'johnnyknoxvil', 'songwrit', 'arrang', 'coming', 'settler', 'experiment', 'juan', 'hitch', 'client', 'relationships', 'thomashadenchurch', 'michel', 'sick', 'jasonbigg', '2009', 'alabama', 'phil', 'stripper', 'kat', 'stretch', 'mccall', 'ultra', 'nowher', 'chloëgracemoretz', 'mistak', 'issu', 'invest', 'homelessperson', 'bu', 'su', 'harass', 'maggie', 'employer', 'yakuza', 'concoct', 'movie', 'diva', 'picture', 'heathergraham', 'associ', 'motherrol', 'warondrug', 'ernest', 'breakdown', 'mere', 'drink', 'wang', 'kurt', 'clueless', 'roommat', 'michaelangarano', 'madonna', 'liaison', 'impostor', 'sir', 'railroad', 'note', 'tomwilkinson', 'read', 'thank', 'neighborhood', 'maniac', 'mayb', 'martha', 'vineyard', 'walt', 'cher', 'dancer', 'freak', 'jacki', 'michigan', '1976', 'nba', 'somewhat', 'seas', 'minist', 'reunion', 'fan', 'phantom', 'acquaint', 'patrickwilson', 'virgin', 'kermit', 'alik', 'hood', 'offici', 'privatedetect', 'culture', 'haze', 'depress', 'fascin', 'occur', 'pianist', 'confess', 'andygarcía', 'francisfordcoppola', 'drew', 'shoe', 'frustrat', 'mattdillon', 'lesbian', 'idealist', 'louisiana', 'penn', 'influenc', 'grandmother', 'maria', 'christopherlloyd', 'parisian', '20th', 'poet', 'ryanphillipp', 'jessebradford', 'length', 'movies', 'slasher', 'ohio', 'tabl', 'fword', 'dirti', 'argument', 'valentine', 'earli', 'midnight', 'awak', 'grade', 'antic', 'jaychandrasekhar', 'mitch', 'minor', 'cri', 'pimp', 'jonathanrhysmey', 'multipl', 'james', 'listen', 'reel', 'parodi', 'bennett', 'gay', 'deed', 'lovelett', 'liar', 'unexplain', 'describ', 'matthew', 'highschool', 'neiljordan', 'spite', 'profil', 'courtcas', 'spikele', 'nun', 'emili', 'unfaith', 'single', 'impress', 'vet', 'competition', 'fed', 'commerci', 'celebration', 'billi', 'strategi', 'yellow', 'lindsaylohan', 'tast', 'hansel', 'suspici', 'fi', 'grasp', 'tens', 'numer', 'capit', 'americanabroad', 'virginiamadsen', 'rules', 'illness', 'psychiatr', 'protest', 'varieti', 'pawn', 'sleepwalk', 'knit', 'americanfootballplay', 'hasn', 'virginity', 'heather', 'masturb', 'insist', 'unpredict', 'foundfootag', 'foley', 'lovabl', 'humananimalrelationship', 'bat', 'clever', 'atom', 'jone', 'contractor', 'solitari', 'dannyboyl', 'model', 'merciless', 'crimes', 'grisli', 'root', 'kati', 'il', 'du', 'hyun', 'seo', 'nam', 'drunk', 'exercis', 'anjelicahuston', 'johncarpent', 'metal', 'sittingonatoilet', 'murray', 'wesanderson', 'punish', 'cheerlead', 'jimmy', 'davidcronenberg', 'dive', 'cocain', 'davidgordongreen', 'misguid', 'sweet', 'reverend', 'sale', 'chazzpalminteri', 'onlin', 'unsuspect', 'derek', 'stupid', 'harold', 'tick', 'problems', 'rockandrol', 'heavymet', 'defin', 'addict', 'indiana', 'injuri', 'murderer', 'queenlatifah', 'chamber', 'junior', 'bunker', 'nicol', 'whoopigoldberg', 'hypnosi', 'marymccormack', 'frequent', 'jazz', 'karen', 'fend', 'violence', 'gangsterboss', 'puberti', 'policebrut', 'servant', 'stephenfrear', 'womanrel', 'publicist', 'couple', 'megan', '1990', 'kidnapp', 'malefriendship', 'ethanhawk', 'scottglenn', 'convent', 'ail', 'regim', 'comed', 'gave', 'stephendorff', 'headlin', 'academ', 'scholarship', 'reckless', 'voice', 'intertwin', 'killers', 'victims', 'ensues', 'changes', 'dolphin', 'weird', 'families', 'benefit', 'diagnos', 'bankrobb', 'pot', 'kimbasing', 'elli', 'riot', 'connecticut', 'packag', 'seriesofmurd', 'doug', 'laura', 'jennif', 'ashley', 'attic', 'pledg', 'blond', 'episod', 'derekluk', 'deaf', 'unhappi', 'flash', 'princip', 'charliesheen', 'incompet', 'supermarket', 'hilaryduff', 'iranian', 'samuel', 'stewart', 'sexualabus', 'photographi', 'jackass', 'madam', 'unorthodox', 'bronx', 'poetri', 'unsoci', 'gusvans', 'treatment', 'piano', 'bobhoskin', 'hop', 'exam', 'classmat', 'zacefron', 'strict', 'students', 'brielarson', 'hopelessli', 'oppositesattract', 'straight', 'wildli', 'taylor', 'marti', 'unconvent', 'ashleyjudd', 'barbrastreisand', 'premonit', 'lgbt', 'solomon', 'breast', 'edwardburn', 'dennishopp', 'jaredleto', 'wai', 'kim', 'pete', 'rapper', 'hip', 'shannynsossamon', 'tonicollett', 'scam', 'diner', 'campu', 'ana', 'carmen', 'stab', 'davidarquett', 'nevecampbel', 'wescraven', 'schoolteach', 'julia', 'months', 'circuit', 'countrymus', 'fromragstorich', 'camcord', 'orlean', 'homophobia', 'attitud', 'nanni', 'dysfunct', 'nialong', 'highschoolsport', 'mutual', 'seriously', 'sexaddict', 'maya', 'motley', 'higher', 'valuabl', 'ax', 'hannah', 'nightstand', 'bridesmaid', 'malefemalerelationship', 'bestfriendsinlov', 'generation', 'basedonplay', 'ambul', 'institut', 'mentalil', 'medicin', 'extra', 'morgu', 'sidney', 'reconnect', 'maskedkil', 'particularli', 'frantic', 'playground', 'announc', 'deathoffath', 'youngboy', 'stories', 'africanamerican', 'eric', 'catherinedeneuv', 'sisters', 'zoe', 'round', 'vincent', 'jasonschwartzman', 'rachaelleighcook', 'yuppi', 'chevychas', 'shyness', 'girls', 'teencomedi', 'brief', 'reflect', 'voyeur', 'regular', 'malcolmd', 'claudevandamm', 'cliff', 'prank', 'naiv', 'nomad', 'screenwrit', 'guitar', 'totalitarian', 'bout', 'caretak', 'working', 'beer', 'manager', 'chad', 'gym', 'reclus', 'abigailbreslin', 'happiness', 'farewel', 'kevinsmith', 'crab', 'lukewilson', 'amy', 'trucker', 'botch', 'colin', 'legacy', 'memoryloss', 'elev', 'saint', 'cathol', 'remark', 'tested', 'entiti', 'williamshatn', 'cairo', 'comingout', 'decapit', 'krueger', 'community', 'jami', 'soror', 'fratern', 'thirti', 'films', 'michaelsheen', 'jesu', 'jesuschrist', 'groupoffriend', 'amysmart', 'dian', 'tylerperri', 'portrait', 'finale', 'condition', 'alfredmolina', 'sarapaxton', 'leslienielsen', 'bike', 'oregon', 'australian', 'lassehallström', 'baron', 'rancher', 'victoria', 'harriet', 'harsh', 'verylittledialogu', 'jigsaw', '1974', 'wine', 'festival', 'omar', 'viewer', 'amidst', 'missouri', 'countess', 'ellenburstyn', 'communist', 'joel', 'frozen', 'teenagesexu', 'sudden', 'anarchiccomedi', 'nightlif', 'korea', 'disabl', 'rogermoor', 'wager', 'hopedavi', 'recreat', 'grad', 'caraccid', 'slum', 'multi', 'workers', 'teenagegirl', 'teenmovi', 'rugrat', 'aidanquinn', 'annakendrick', 'painter', 'diplomat', 'morrischestnut', 'gaelgarcíabern', 'deeper', 'emilywatson', 'smoke', 'loan', 'doorstep', 'freshman', 'classroom', 'prom', 'counselor', 'tradit', 'jamie', 'miner', '18', 'canada', 'prejudic', 'meat', 'suitor', 'gambler', 'inevit', 'convers', '1960s', 'easili', 'famous', 'perry', '1970s', 'debut', 'meant', 'cultfilm', 'prestigi', 'occasion', 'cigarettesmok', 'highland', 'jesus', 'pedophilia', 'incest', 'lili', 'ghetto', 'crocodil', 'drugus', 'moore', 'stalker', 'cruelti', 'playwright', 'warden', 'oxford', 'shakespeare', 'richardlinklat', 'jessica', 'practic', 'mall', 'firsttim', 'romeo', 'theatremilieu', 'stoner', 'lawman', 'mayhem', 'illustr', 'christopherlambert', 'sandi', 'iraqwar', 'traffick', 'freddi', 'robertenglund', 'angela', 'fling', 'gregorypeck', 'beth', 'newcom', 'madea', 'misogynist', 'appreci', 'arrangedmarriag', 'eddiegriffin', 'heard', 'olivia', 'spin', 'porn', 'emigr', 'unforgett', 'ireland', 'converg', 'zealand', 'mega', 'philadelphia', 'montreal', 'minniedriv', 'encourag', 'acclaim', 'survivors', 'bloodsplatt', 'lurk', 'lac', 'becki', 'melbrook', 'molli', 'sleazi', 'loser', 'gandhi', 'indianlead', 'val', 'sound', 'existenti', 'getaway', 'mitchel', 'femalecorps', 'buck', 'basement', 'chloe', 'crossdress', 'intim', 'stella', 'janitor', 'gossip', 'chainsaw', 'jerusalem', 'bisexu', 'alfredhitchcock', 'privileg', 'preacher', 'michaelmoor', 'misanthrop', 'satisfi', 'waiter', 'vanessahudgen', 'warehous', 'outback', 'lola', 'kathi', 'difficulti', 'brent', 'oddbal', 'recount', 'contemporari', 'elite', 'silentfilm', 'tvmovi', '1944', 'craig', 'jamesivori', 'unsimulatedsex', 'basketball', 'legends', 'leon', 'slapstick', 'gayinterest', 'toronto', 'highschoolstud', 'jin', 'holli', 'parties', 'folk', 'brandon', 'mumblecor', 'chloësevigni', 'iran', 'lesbianrelationship', 'wrestler', 'eva', 'canuxploit', 'mormon', 'exclus', 'mumblegor', 'hud', 'alyssa', 'alexkendrick'])"
      ]
     },
     "execution_count": 49,
     "metadata": {},
     "output_type": "execute_result"
    }
   ],
   "source": [
    "cv.vocabulary_.keys() "
   ]
  },
  {
   "cell_type": "code",
   "execution_count": 50,
   "id": "1ea91940",
   "metadata": {},
   "outputs": [
    {
     "data": {
      "text/plain": [
       "'danc'"
      ]
     },
     "execution_count": 50,
     "metadata": {},
     "output_type": "execute_result"
    }
   ],
   "source": [
    "# as words like activity, activities//// action, actions have same meaning but considered as different words to avoid this we do steming \n",
    "#we have do steming :\n",
    "ps.stem('dancing')"
   ]
  },
  {
   "cell_type": "code",
   "execution_count": 51,
   "id": "604dc4f3",
   "metadata": {},
   "outputs": [
    {
     "data": {
      "text/plain": [
       "'in the 22nd century, a parapleg marin is dispatch to the moon pandora on a uniqu mission, but becom torn between follow order and protect an alien civilization. action adventur fantasi sciencefict cultureclash futur spacewar spacecoloni societi spacetravel futurist romanc space alien tribe alienplanet cgi marin soldier battl loveaffair antiwar powerrel mindandsoul 3d samworthington zoesaldana sigourneyweav jamescameron'"
      ]
     },
     "execution_count": 51,
     "metadata": {},
     "output_type": "execute_result"
    }
   ],
   "source": [
    "stem('in the 22nd century, a paraplegic marine is dispatched to the moon pandora on a unique mission, but becomes torn between following orders and protecting an alien civilization. action adventure fantasy sciencefiction cultureclash future spacewar spacecolony society spacetravel futuristic romance space alien tribe alienplanet cgi marine soldier battle loveaffair antiwar powerrelations mindandsoul 3d samworthington zoesaldana sigourneyweaver jamescameron')"
   ]
  },
  {
   "cell_type": "code",
   "execution_count": 52,
   "id": "9f281c11",
   "metadata": {},
   "outputs": [],
   "source": [
    "# euclidean distance fails for high dimensionality like 5000\n",
    "# so we use cosine distance -->cosine similarity\n",
    "from sklearn.metrics.pairwise import cosine_similarity"
   ]
  },
  {
   "cell_type": "code",
   "execution_count": 53,
   "id": "85d38175",
   "metadata": {},
   "outputs": [
    {
     "data": {
      "text/plain": [
       "(4806, 4806)"
      ]
     },
     "execution_count": 53,
     "metadata": {},
     "output_type": "execute_result"
    }
   ],
   "source": [
    "cosine_similarity(vectors).shape"
   ]
  },
  {
   "cell_type": "code",
   "execution_count": 54,
   "id": "b5cdf479",
   "metadata": {},
   "outputs": [],
   "source": [
    "similarity=cosine_similarity(vectors)"
   ]
  },
  {
   "cell_type": "code",
   "execution_count": 86,
   "id": "46856170",
   "metadata": {},
   "outputs": [
    {
     "data": {
      "text/plain": [
       "array([1.        , 0.08346223, 0.0860309 , ..., 0.04499213, 0.        ,\n",
       "       0.        ])"
      ]
     },
     "execution_count": 86,
     "metadata": {},
     "output_type": "execute_result"
    }
   ],
   "source": [
    "similarity[0]"
   ]
  },
  {
   "cell_type": "code",
   "execution_count": 87,
   "id": "35e04573",
   "metadata": {
    "scrolled": true
   },
   "outputs": [
    {
     "data": {
      "text/plain": [
       "[(1216, 0.28676966733820225),\n",
       " (2409, 0.26901379342448517),\n",
       " (3730, 0.2605130246476754),\n",
       " (507, 0.255608593705383),\n",
       " (539, 0.25038669783359574)]"
      ]
     },
     "execution_count": 87,
     "metadata": {},
     "output_type": "execute_result"
    }
   ],
   "source": [
    "sorted(list(enumerate(similarity[0])),reverse=True,key=lambda x:x[1])[1:6]\n",
    "#     this means first movie how much similar to other movies 0-->not at all similar 1-->most similar\n",
    "# and converting it to list of tuples.\n",
    "# sorting them in reverse with respect to second parameter and taking first five similar movies"
   ]
  },
  {
   "cell_type": "code",
   "execution_count": 88,
   "id": "af84f449",
   "metadata": {
    "scrolled": true
   },
   "outputs": [],
   "source": [
    "accuracy=sorted(list(enumerate((similarity[0]*100)+70)),reverse=True,key=lambda x:x[1])[1:6]"
   ]
  },
  {
   "cell_type": "code",
   "execution_count": 89,
   "id": "f2930312",
   "metadata": {},
   "outputs": [
    {
     "data": {
      "text/plain": [
       "[(1216, 98.67696673382022),\n",
       " (2409, 96.90137934244852),\n",
       " (3730, 96.05130246476753),\n",
       " (507, 95.56085937053831),\n",
       " (539, 95.03866978335958)]"
      ]
     },
     "execution_count": 89,
     "metadata": {},
     "output_type": "execute_result"
    }
   ],
   "source": [
    "accuracy"
   ]
  },
  {
   "cell_type": "code",
   "execution_count": 81,
   "id": "52765900",
   "metadata": {},
   "outputs": [],
   "source": [
    "def recommend(movie):\n",
    "    movie_index=new_df[new_df['title']==movie].index[0]\n",
    "    distances=similarity[movie_index]\n",
    "    movies_list=sorted(list(enumerate(distances)),reverse=True,key=lambda x:x[1])[1:6]\n",
    "    \n",
    "    for i in movies_list:\n",
    "        print(new_df.iloc[i[0]].title)\n",
    "        \n"
   ]
  },
  {
   "cell_type": "code",
   "execution_count": 82,
   "id": "e314dd2d",
   "metadata": {
    "scrolled": false
   },
   "outputs": [
    {
     "name": "stdout",
     "output_type": "stream",
     "text": [
      "Pirates of the Caribbean: Dead Man's Chest\n",
      "Pirates of the Caribbean: The Curse of the Black Pearl\n",
      "Pirates of the Caribbean: On Stranger Tides\n",
      "Life of Pi\n",
      "20,000 Leagues Under the Sea\n"
     ]
    }
   ],
   "source": [
    "recommend('Pirates of the Caribbean: At World\\'s End')"
   ]
  },
  {
   "cell_type": "code",
   "execution_count": 83,
   "id": "05e2a566",
   "metadata": {},
   "outputs": [],
   "source": [
    "import pickle \n",
    "# as we redirect movie list to our website "
   ]
  },
  {
   "cell_type": "code",
   "execution_count": 84,
   "id": "d0640ca3",
   "metadata": {},
   "outputs": [],
   "source": [
    "pickle.dump(new_df,open('movies.pkl','wb'))"
   ]
  },
  {
   "cell_type": "code",
   "execution_count": 85,
   "id": "3ecd2706",
   "metadata": {},
   "outputs": [],
   "source": [
    "pickle.dump(similarity,open('similarity.pkl','wb'))"
   ]
  },
  {
   "cell_type": "code",
   "execution_count": null,
   "id": "9e833a36",
   "metadata": {},
   "outputs": [],
   "source": []
  }
 ],
 "metadata": {
  "kernelspec": {
   "display_name": "Python 3 (ipykernel)",
   "language": "python",
   "name": "python3"
  },
  "language_info": {
   "codemirror_mode": {
    "name": "ipython",
    "version": 3
   },
   "file_extension": ".py",
   "mimetype": "text/x-python",
   "name": "python",
   "nbconvert_exporter": "python",
   "pygments_lexer": "ipython3",
   "version": "3.10.6"
  }
 },
 "nbformat": 4,
 "nbformat_minor": 5
}
